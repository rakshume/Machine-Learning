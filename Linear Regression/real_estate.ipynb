{
 "cells": [
  {
   "cell_type": "code",
   "execution_count": 1,
   "metadata": {},
   "outputs": [],
   "source": [
    "import pandas as pd\n",
    "import matplotlib.pyplot as plt\n",
    "import seaborn as sns\n",
    "import statsmodels.api as sm\n",
    "from sklearn.model_selection import train_test_split\n",
    "from sklearn.linear_model import LinearRegression\n",
    "from sklearn.metrics import mean_squared_error,mean_absolute_error,r2_score"
   ]
  },
  {
   "cell_type": "code",
   "execution_count": 2,
   "metadata": {},
   "outputs": [],
   "source": [
    "df = pd.read_csv(r'C:\\Users\\KSSEEB\\OneDrive\\Documents\\Machine Learning\\Linear Regression\\Real_Estate.csv')"
   ]
  },
  {
   "cell_type": "code",
   "execution_count": 3,
   "metadata": {},
   "outputs": [
    {
     "data": {
      "text/html": [
       "<div>\n",
       "<style scoped>\n",
       "    .dataframe tbody tr th:only-of-type {\n",
       "        vertical-align: middle;\n",
       "    }\n",
       "\n",
       "    .dataframe tbody tr th {\n",
       "        vertical-align: top;\n",
       "    }\n",
       "\n",
       "    .dataframe thead th {\n",
       "        text-align: right;\n",
       "    }\n",
       "</style>\n",
       "<table border=\"1\" class=\"dataframe\">\n",
       "  <thead>\n",
       "    <tr style=\"text-align: right;\">\n",
       "      <th></th>\n",
       "      <th>Transaction date</th>\n",
       "      <th>House age</th>\n",
       "      <th>Distance to the nearest MRT station</th>\n",
       "      <th>Number of convenience stores</th>\n",
       "      <th>Latitude</th>\n",
       "      <th>Longitude</th>\n",
       "      <th>House price of unit area</th>\n",
       "    </tr>\n",
       "  </thead>\n",
       "  <tbody>\n",
       "    <tr>\n",
       "      <th>0</th>\n",
       "      <td>2012-09-02 16:42:30.519336</td>\n",
       "      <td>13.3</td>\n",
       "      <td>4082.0150</td>\n",
       "      <td>8</td>\n",
       "      <td>25.007059</td>\n",
       "      <td>121.561694</td>\n",
       "      <td>6.488673</td>\n",
       "    </tr>\n",
       "    <tr>\n",
       "      <th>1</th>\n",
       "      <td>2012-09-04 22:52:29.919544</td>\n",
       "      <td>35.5</td>\n",
       "      <td>274.0144</td>\n",
       "      <td>2</td>\n",
       "      <td>25.012148</td>\n",
       "      <td>121.546990</td>\n",
       "      <td>24.970725</td>\n",
       "    </tr>\n",
       "    <tr>\n",
       "      <th>2</th>\n",
       "      <td>2012-09-05 01:10:52.349449</td>\n",
       "      <td>1.1</td>\n",
       "      <td>1978.6710</td>\n",
       "      <td>10</td>\n",
       "      <td>25.003850</td>\n",
       "      <td>121.528336</td>\n",
       "      <td>26.694267</td>\n",
       "    </tr>\n",
       "    <tr>\n",
       "      <th>3</th>\n",
       "      <td>2012-09-05 13:26:01.189083</td>\n",
       "      <td>22.2</td>\n",
       "      <td>1055.0670</td>\n",
       "      <td>5</td>\n",
       "      <td>24.962887</td>\n",
       "      <td>121.482178</td>\n",
       "      <td>38.091638</td>\n",
       "    </tr>\n",
       "    <tr>\n",
       "      <th>4</th>\n",
       "      <td>2012-09-06 08:29:47.910523</td>\n",
       "      <td>8.5</td>\n",
       "      <td>967.4000</td>\n",
       "      <td>6</td>\n",
       "      <td>25.011037</td>\n",
       "      <td>121.479946</td>\n",
       "      <td>21.654710</td>\n",
       "    </tr>\n",
       "  </tbody>\n",
       "</table>\n",
       "</div>"
      ],
      "text/plain": [
       "             Transaction date  House age  Distance to the nearest MRT station  \\\n",
       "0  2012-09-02 16:42:30.519336       13.3                            4082.0150   \n",
       "1  2012-09-04 22:52:29.919544       35.5                             274.0144   \n",
       "2  2012-09-05 01:10:52.349449        1.1                            1978.6710   \n",
       "3  2012-09-05 13:26:01.189083       22.2                            1055.0670   \n",
       "4  2012-09-06 08:29:47.910523        8.5                             967.4000   \n",
       "\n",
       "   Number of convenience stores   Latitude   Longitude  \\\n",
       "0                             8  25.007059  121.561694   \n",
       "1                             2  25.012148  121.546990   \n",
       "2                            10  25.003850  121.528336   \n",
       "3                             5  24.962887  121.482178   \n",
       "4                             6  25.011037  121.479946   \n",
       "\n",
       "   House price of unit area  \n",
       "0                  6.488673  \n",
       "1                 24.970725  \n",
       "2                 26.694267  \n",
       "3                 38.091638  \n",
       "4                 21.654710  "
      ]
     },
     "execution_count": 3,
     "metadata": {},
     "output_type": "execute_result"
    }
   ],
   "source": [
    "df.head()\n"
   ]
  },
  {
   "cell_type": "code",
   "execution_count": null,
   "metadata": {},
   "outputs": [],
   "source": [
    "df.tail()"
   ]
  },
  {
   "cell_type": "code",
   "execution_count": null,
   "metadata": {},
   "outputs": [],
   "source": []
  }
 ],
 "metadata": {
  "kernelspec": {
   "display_name": "Python 3",
   "language": "python",
   "name": "python3"
  },
  "language_info": {
   "codemirror_mode": {
    "name": "ipython",
    "version": 3
   },
   "file_extension": ".py",
   "mimetype": "text/x-python",
   "name": "python",
   "nbconvert_exporter": "python",
   "pygments_lexer": "ipython3",
   "version": "3.12.7"
  }
 },
 "nbformat": 4,
 "nbformat_minor": 2
}
