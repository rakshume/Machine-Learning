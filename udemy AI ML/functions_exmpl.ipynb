{
 "cells": [
  {
   "cell_type": "markdown",
   "id": "a7ce8368",
   "metadata": {},
   "source": [
    "### temperature converter"
   ]
  },
  {
   "cell_type": "code",
   "execution_count": 1,
   "id": "ee3cad98",
   "metadata": {},
   "outputs": [],
   "source": [
    "### celcius to farenheit\n",
    "# This program converts temperature from Celsius to Fahrenheit and Fahrenheit to celsius\n",
    "# The formula is F = C * 9/5 + 32\n",
    "# The program will ask the user to input a temperature in Celsius\n",
    "# and then it will output the equivalent temperature in Fahrenheit\n",
    "# The program will continue to ask for input until the user enters 'exit'\n",
    "# The program will also handle invalid input gracefully\n",
    "# The program will also handle the case where the user enters a number with a decimal point\n",
    "# The program will also handle the case where the user enters a number with a negative sign\n",
    "# The program will also handle the case where the user enters a number with a positive sign\n",
    "# The program will also handle the case where the user enters a number with a space before or after it\n",
    "# The program will also handle the case where the user enters a number with a comma instead of a decimal point\n",
    "# The program will also handle the case where the user enters a number with a period instead of a decimal point\n",
    "# The program will also handle the case where the user enters a number with a comma instead of a decimal point\n",
    "\n",
    "def temperature_conversion():\n",
    "    while True:\n",
    "        user_input = input(\"Enter temperature in Celsius (or 'exit' to quit): \").strip()\n",
    "        if user_input.lower() == 'exit':\n",
    "            print(\"Exiting the program.\")\n",
    "            break\n",
    "        try:\n",
    "            # Check if input contains 'f' or 'c'\n",
    "            val = user_input.lower().replace(' ', '')\n",
    "            if 'f' in val:\n",
    "                fahrenheit = float(val.replace('f', '').replace(',', '.'))\n",
    "                celsius = (fahrenheit - 32) * 5/9\n",
    "                print(f\"{fahrenheit}°F is equal to {celsius:.2f}°C\")\n",
    "            else:\n",
    "                celsius = float(val.replace('c', '').replace(',', '.'))\n",
    "                fahrenheit = celsius * 9/5 + 32\n",
    "                print(f\"{celsius}°C is equal to {fahrenheit:.2f}°F\")\n",
    "        except ValueError:\n",
    "            print(\"Invalid input. Please enter a valid number or 'exit' to quit.\")"
   ]
  },
  {
   "cell_type": "code",
   "execution_count": null,
   "id": "fe55b0e4",
   "metadata": {},
   "outputs": [],
   "source": [
    "### tried my own\n",
    "# def temp_conv():\n",
    "#     while True:\n",
    "#         user_input = input('enter the temp or exit to quit the program').strip()\n",
    "#         if user_input == 'exit':\n",
    "#             print('exiting the program')\n",
    "#             break\n",
    "#         try:\n",
    "#             val = user_input.lower().replace(' ','')\n",
    "#             if 'f' in val:\n",
    "#                 fahrenheit = float(val.replace('f','').replace(' ',''))\n",
    "#                 celcius = (fahrenheit - 32) * 5/9\n",
    "#                 print(f'{fahrenheit} f is equal to {celcius:.2f} c')\n",
    "#             elif 'c' in val:\n",
    "#                 celcius = float(val.replace('c','').replace(',','.'))\n",
    "#                 fahrenheit = celcius * 5/9 + 32\n",
    "#                 print(f'{celcius} c is equal to {fahrenheit:.2f} f')\n",
    "#             else:\n",
    "#                 return False\n",
    "#         except ValueError:\n",
    "#             print(\"Invalid input. Please enter a valid number or 'exit' to quit.\")"
   ]
  },
  {
   "cell_type": "code",
   "execution_count": 2,
   "id": "9e2975da",
   "metadata": {},
   "outputs": [
    {
     "name": "stdout",
     "output_type": "stream",
     "text": [
      "Invalid input. Please enter a valid number or 'exit' to quit.\n",
      "Exiting the program.\n"
     ]
    }
   ],
   "source": [
    "if __name__ == \"__main__\":\n",
    "    temperature_conversion()"
   ]
  },
  {
   "cell_type": "markdown",
   "id": "a4413da5",
   "metadata": {},
   "source": [
    "## strong password checking"
   ]
  },
  {
   "cell_type": "code",
   "execution_count": 3,
   "id": "c47c5352",
   "metadata": {},
   "outputs": [],
   "source": [
    "# generate strong password\n",
    "def strong_password():\n",
    "    import random\n",
    "    import string\n",
    "\n",
    "    def generate_password(length=12):\n",
    "        characters = string.ascii_letters + string.digits + string.punctuation\n",
    "        password = ''.join(random.choice(characters) for _ in range(length))\n",
    "        return password\n",
    "\n",
    "    while True:\n",
    "        user_input = input(\"Enter 'generate' to create a strong password or 'exit' to quit: \").strip()\n",
    "        if user_input.lower() == 'exit':\n",
    "            print(\"Exiting the program.\")\n",
    "            break\n",
    "        elif user_input.lower() == 'generate':\n",
    "            password = generate_password()\n",
    "            print(f\"Generated strong password: {password}\")\n",
    "        else:\n",
    "            print(\"Invalid input. Please enter 'generate' or 'exit'.\")"
   ]
  },
  {
   "cell_type": "code",
   "execution_count": 5,
   "id": "53cf56f5",
   "metadata": {},
   "outputs": [
    {
     "name": "stdout",
     "output_type": "stream",
     "text": [
      "Generated strong password: RWiebi\\9`*N2\n",
      "Exiting the program.\n"
     ]
    }
   ],
   "source": [
    "strong_password()"
   ]
  },
  {
   "cell_type": "code",
   "execution_count": null,
   "id": "a0b6fd68",
   "metadata": {},
   "outputs": [],
   "source": [
    "def str_password(password):\n",
    "    if len(password) <= 8:\n",
    "        return False\n",
    "    if not any (char.isdigit() for char in password):\n",
    "        return False\n",
    "    if not any (char.isupper() for char in password):\n",
    "        return False\n",
    "    if not any (char.islower() for char in password):\n",
    "        return False\n",
    "    if not any (char in ('@#$%&*?/!.,') for char in password ):\n",
    "        return False\n",
    "    return True"
   ]
  },
  {
   "cell_type": "code",
   "execution_count": null,
   "id": "710580b4",
   "metadata": {},
   "outputs": [
    {
     "data": {
      "text/plain": [
       "False"
      ]
     },
     "execution_count": 19,
     "metadata": {},
     "output_type": "execute_result"
    }
   ],
   "source": [
    "str_password(\"Passw0rrdf\")"
   ]
  },
  {
   "cell_type": "code",
   "execution_count": 6,
   "id": "d2ccb866",
   "metadata": {},
   "outputs": [],
   "source": [
    "def is_strong_password(password):\n",
    "    import re\n",
    "    if len(password) < 8:\n",
    "        return False\n",
    "    if not re.search(r\"[a-z]\", password):\n",
    "        return False\n",
    "    if not re.search(r\"[A-Z]\", password):\n",
    "        return False\n",
    "    if not re.search(r\"[0-9]\", password):\n",
    "        return False\n",
    "    if not re.search(r\"[!@#$%^&*(),.?\\\":{}|<>]\", password):\n",
    "        return False\n",
    "    return True"
   ]
  },
  {
   "cell_type": "code",
   "execution_count": 7,
   "id": "9d4687e7",
   "metadata": {},
   "outputs": [
    {
     "data": {
      "text/plain": [
       "False"
      ]
     },
     "execution_count": 7,
     "metadata": {},
     "output_type": "execute_result"
    }
   ],
   "source": [
    "is_strong_password('passwoedrd')\n",
    "    "
   ]
  },
  {
   "cell_type": "code",
   "execution_count": 22,
   "id": "35c84b6f",
   "metadata": {},
   "outputs": [
    {
     "name": "stdout",
     "output_type": "stream",
     "text": [
      "8 is a power of two: True\n"
     ]
    }
   ],
   "source": [
    "def is_power_of_two(n):\n",
    "    \"\"\"Check if a number is a power of two.\"\"\"\n",
    "    if n <= 0:\n",
    "        return False\n",
    "    return (n & (n - 1)) == 0\n",
    "\n",
    "# Example usage:\n",
    "number = 8\n",
    "print(f\"{number} is a power of two: {is_power_of_two(number)}\")"
   ]
  },
  {
   "cell_type": "code",
   "execution_count": null,
   "id": "6f738d79",
   "metadata": {},
   "outputs": [],
   "source": [
    "def PowersofTwo(num):\n",
    "    try:\n",
    "        n = int(num)\n",
    "    except ValueError:\n",
    "        return False\n",
    "    if n <= 0:\n",
    "        return False\n",
    "    return (n & (n - 1)) == 0\n",
    "\n",
    "# keep this function call here \n",
    "print(PowersofTwo(input()))"
   ]
  },
  {
   "cell_type": "code",
   "execution_count": 1,
   "id": "a9b1ff0e",
   "metadata": {},
   "outputs": [
    {
     "name": "stdout",
     "output_type": "stream",
     "text": [
      "cats_and_dogs_are_awesome\n"
     ]
    }
   ],
   "source": [
    "def SnakeCase(strParam):\n",
    "    # Replace all non-letter characters with spaces\n",
    "    filtered = ''\n",
    "    for char in strParam:\n",
    "        if char.isalpha():\n",
    "            filtered += char\n",
    "        else:\n",
    "            filtered += ' '\n",
    "    # Split into words, lowercase, and join with underscores\n",
    "    return '_'.join(word.lower() for word in filtered.strip().split())\n",
    "\n",
    "# keep this function call here \n",
    "print(SnakeCase(input(\"cats AND*Dogs-are Awesome\")))"
   ]
  },
  {
   "cell_type": "code",
   "execution_count": 2,
   "id": "904d2501",
   "metadata": {},
   "outputs": [
    {
     "data": {
      "text/plain": [
       "'cats_and_dogs_are_awesome'"
      ]
     },
     "execution_count": 2,
     "metadata": {},
     "output_type": "execute_result"
    }
   ],
   "source": [
    "SnakeCase(\"cats AND*Dogs-are Awesome\")"
   ]
  },
  {
   "cell_type": "markdown",
   "id": "7b21ad55",
   "metadata": {},
   "source": [
    "### 3) calculate the total cost of items in a shopping cart"
   ]
  },
  {
   "cell_type": "code",
   "execution_count": 8,
   "id": "e617403e",
   "metadata": {},
   "outputs": [
    {
     "data": {
      "text/plain": [
       "4.7"
      ]
     },
     "execution_count": 8,
     "metadata": {},
     "output_type": "execute_result"
    }
   ],
   "source": [
    "def calculate_total_cost(cart):\n",
    "    \"\"\"\n",
    "    Calculate the total cost of items in the cart.\n",
    "    \n",
    "    Args:\n",
    "        cart (list): A list of tuples, where each tuple contains the item name and its price.\n",
    "    \n",
    "    Returns:\n",
    "        float: The total cost of items in the cart.\n",
    "    \"\"\"\n",
    "    total_cost = 0.0\n",
    "    for item in cart:\n",
    "        total_cost += item['price']* item['quantity']\n",
    "    return total_cost\n",
    "\n",
    "# Example usage     \n",
    "# print(f\"Total cost: ${calculate_total_cost(cart):.2f}\")\n",
    "cart = [\n",
    "    {\"name\": \"apple\", \"price\": 1.2, \"quantity\": 2},\n",
    "    {\"name\": \"banana\", \"price\": 0.5, \"quantity\": 3},\n",
    "    {\"name\": \"orange\", \"price\": 0.8, \"quantity\": 1}\n",
    "]\n",
    "\n",
    "calculate_total_cost(cart)"
   ]
  },
  {
   "cell_type": "markdown",
   "id": "03424330",
   "metadata": {},
   "source": [
    "### 4) check if a string is palindrome"
   ]
  },
  {
   "cell_type": "code",
   "execution_count": 1,
   "id": "1c0773bb",
   "metadata": {},
   "outputs": [
    {
     "name": "stdout",
     "output_type": "stream",
     "text": [
      "True\n",
      "False\n"
     ]
    }
   ],
   "source": [
    "def is_palindrome(s):\n",
    "    # Remove spaces and convert to lowercase\n",
    "    s = ''.join(s.split()).lower()\n",
    "    # Check if the string is equal to its reverse\n",
    "    return s == s[::-1]\n",
    "# Example usage\n",
    "print(is_palindrome(\"a man a plan a canal panama\"))  # True\n",
    "print(is_palindrome(\"hello\"))  # False"
   ]
  },
  {
   "cell_type": "markdown",
   "id": "5fed896f",
   "metadata": {},
   "source": [
    "### 5) calculate the factorials of a number using recursion"
   ]
  },
  {
   "cell_type": "code",
   "execution_count": 2,
   "id": "5859394f",
   "metadata": {},
   "outputs": [
    {
     "data": {
      "text/plain": [
       "120"
      ]
     },
     "execution_count": 2,
     "metadata": {},
     "output_type": "execute_result"
    }
   ],
   "source": [
    "def factorial(n):\n",
    "    if n == 0:\n",
    "        return 1\n",
    "    else:\n",
    "        return n * factorial(n - 1)\n",
    "    \n",
    "factorial(5)  # 120"
   ]
  },
  {
   "cell_type": "markdown",
   "id": "7f4a658a",
   "metadata": {},
   "source": [
    "### 6) a function to read a file and count the frequency of each word"
   ]
  },
  {
   "cell_type": "code",
   "execution_count": 2,
   "id": "08358759",
   "metadata": {},
   "outputs": [
    {
     "name": "stdout",
     "output_type": "stream",
     "text": [
      "{'hii': 2, 'hlo': 2, 'my': 1, 'name': 2, 'is': 2, 'rakshak': 2, 'the': 1, 'i': 1, 'told': 1}\n"
     ]
    }
   ],
   "source": [
    "def count_word_frequency(file_path):\n",
    "    word_count = {}\n",
    "    with open (file_path, 'r') as file:\n",
    "        for line in file:\n",
    "            words = line.split()\n",
    "            for word in words:\n",
    "                word = word.lower().strip('.,!?()[]{}\"\\'')\n",
    "                if word in word_count:\n",
    "                    word_count[word] += 1\n",
    "                else:\n",
    "                    word_count[word] = 1\n",
    "    return word_count\n",
    "# Example usage\n",
    "file_path = 'sample.txt'\n",
    "print(count_word_frequency(file_path))"
   ]
  },
  {
   "cell_type": "code",
   "execution_count": 8,
   "id": "49a8bd6b",
   "metadata": {},
   "outputs": [
    {
     "data": {
      "text/plain": [
       "144"
      ]
     },
     "execution_count": 8,
     "metadata": {},
     "output_type": "execute_result"
    }
   ],
   "source": [
    "num = [1,2,3,4,5,6,7,8,9,10]\n",
    "def square(num):\n",
    "    return num ** 2\n",
    "square(12)"
   ]
  },
  {
   "cell_type": "code",
   "execution_count": 9,
   "id": "f9712ae9",
   "metadata": {},
   "outputs": [
    {
     "name": "stdout",
     "output_type": "stream",
     "text": [
      "144\n"
     ]
    }
   ],
   "source": [
    "square1 = lambda num: num ** 2\n",
    "print(square1(12))"
   ]
  },
  {
   "cell_type": "code",
   "execution_count": 11,
   "id": "84af29d7",
   "metadata": {},
   "outputs": [
    {
     "data": {
      "text/plain": [
       "[1, 4, 9, 16, 25, 36, 49, 64, 81, 100]"
      ]
     },
     "execution_count": 11,
     "metadata": {},
     "output_type": "execute_result"
    }
   ],
   "source": [
    "list(map(lambda x: x ** 2, num))"
   ]
  },
  {
   "cell_type": "code",
   "execution_count": 17,
   "id": "166f29fe",
   "metadata": {},
   "outputs": [
    {
     "data": {
      "text/plain": [
       "False"
      ]
     },
     "execution_count": 17,
     "metadata": {},
     "output_type": "execute_result"
    }
   ],
   "source": [
    "def even(num):\n",
    "    if num%2 == 0:\n",
    "        return True\n",
    "    else:\n",
    "        return False\n",
    "even (5)"
   ]
  },
  {
   "cell_type": "code",
   "execution_count": 22,
   "id": "3a0cea6a",
   "metadata": {},
   "outputs": [
    {
     "data": {
      "text/plain": [
       "False"
      ]
     },
     "execution_count": 22,
     "metadata": {},
     "output_type": "execute_result"
    }
   ],
   "source": [
    "even1 = lambda num:num%2==0\n",
    "even1(5)"
   ]
  },
  {
   "cell_type": "code",
   "execution_count": 25,
   "id": "6e3f4ac4",
   "metadata": {},
   "outputs": [
    {
     "data": {
      "text/plain": [
       "6"
      ]
     },
     "execution_count": 25,
     "metadata": {},
     "output_type": "execute_result"
    }
   ],
   "source": [
    "addition1 = lambda x, y, z : x + y + z\n",
    "addition1(1, 2, 3)"
   ]
  },
  {
   "cell_type": "code",
   "execution_count": 26,
   "id": "5bf859e1",
   "metadata": {},
   "outputs": [
    {
     "data": {
      "text/plain": [
       "[1, 4, 9, 16, 25, 36, 49, 64, 81, 100]"
      ]
     },
     "execution_count": 26,
     "metadata": {},
     "output_type": "execute_result"
    }
   ],
   "source": [
    "list(map(lambda x: x*x, num))"
   ]
  },
  {
   "cell_type": "code",
   "execution_count": 28,
   "id": "c1fe40dc",
   "metadata": {},
   "outputs": [
    {
     "data": {
      "text/plain": [
       "[5, 7, 9]"
      ]
     },
     "execution_count": 28,
     "metadata": {},
     "output_type": "execute_result"
    }
   ],
   "source": [
    "number1 = [1,2,3]\n",
    "number2 = [4,5,6]\n",
    "def add_numbers(num1, num2):\n",
    "    return [x + y for x, y in zip(num1, num2)]\n",
    "add_numbers(number1, number2)"
   ]
  },
  {
   "cell_type": "code",
   "execution_count": 32,
   "id": "0a3f404b",
   "metadata": {},
   "outputs": [
    {
     "name": "stdout",
     "output_type": "stream",
     "text": [
      "[5, 7, 9]\n"
     ]
    }
   ],
   "source": [
    "number1 = [1,2,3]\n",
    "number2 = [4,5,6]\n",
    "additional = list(map(lambda x, y: x + y, number1, number2))\n",
    "print(additional)"
   ]
  },
  {
   "cell_type": "code",
   "execution_count": 39,
   "id": "afac3415",
   "metadata": {},
   "outputs": [
    {
     "name": "stdout",
     "output_type": "stream",
     "text": [
      "The result of 2.0 divided by 4.0 is 0.5\n"
     ]
    }
   ],
   "source": [
    "def division():\n",
    "    try:\n",
    "        num1 = float(input(\"Enter the first number: \"))\n",
    "        num2 = float(input(\"Enter the second number: \"))\n",
    "        result = num1 / num2\n",
    "        print(f\"The result of {num1} divided by {num2} is {result}\")\n",
    "    except ZeroDivisionError:\n",
    "        print(\"Error: Division by zero is not allowed.\")\n",
    "    except ValueError:\n",
    "        print(\"Error: Please enter valid numbers.\")\n",
    "        \n",
    "if __name__ == \"__main__\":\n",
    "    division()"
   ]
  },
  {
   "cell_type": "code",
   "execution_count": 44,
   "id": "f99c16d0",
   "metadata": {},
   "outputs": [
    {
     "name": "stdout",
     "output_type": "stream",
     "text": [
      "[0.25, 0.4, 0.5]\n"
     ]
    }
   ],
   "source": [
    "number1 = [1,2,3]\n",
    "number2 = [4,5,6]\n",
    "\n",
    "divide_num = list(map(lambda x,y:x/y,number1,number2))\n",
    "type(divide_num)\n",
    "print(divide_num)"
   ]
  },
  {
   "cell_type": "code",
   "execution_count": 3,
   "id": "68d5420e",
   "metadata": {},
   "outputs": [
    {
     "data": {
      "text/plain": [
       "['ram', 'raj', '65', '78']"
      ]
     },
     "execution_count": 3,
     "metadata": {},
     "output_type": "execute_result"
    }
   ],
   "source": [
    "def get_names():\n",
    "    names = []\n",
    "    while True:\n",
    "        name = input(\"Enter a name (or 'exit' to quit): \").strip()\n",
    "        if name.lower() == 'exit':\n",
    "            break\n",
    "        names.append(name)\n",
    "    return names\n",
    "get_names()"
   ]
  },
  {
   "cell_type": "code",
   "execution_count": 68,
   "id": "453558ad",
   "metadata": {},
   "outputs": [
    {
     "data": {
      "text/plain": [
       "[(30, 'John'), (25, 'Jane')]"
      ]
     },
     "execution_count": 68,
     "metadata": {},
     "output_type": "execute_result"
    }
   ],
   "source": [
    "def give_name(person):\n",
    "    return person['age'],person['name']\n",
    "# Example usage\n",
    "titles = [{'name': 'John', 'age': 30}, {'name': 'Jane', 'age': 25}]\n",
    "list(map(give_name, titles))"
   ]
  },
  {
   "cell_type": "code",
   "execution_count": 84,
   "id": "5854ad2f",
   "metadata": {},
   "outputs": [
    {
     "name": "stdout",
     "output_type": "stream",
     "text": [
      " ******** \n",
      "  ******  \n",
      "   ****   \n",
      "    **    \n",
      "          \n"
     ]
    }
   ],
   "source": [
    "n = 5\n",
    "for i in range(1, n + 1):\n",
    "    left_stars = '*' * (n-i)\n",
    "    left_spaces = ' ' * (i)\n",
    "    right_stars = '*' * (n-i)\n",
    "    right_spaces = ' ' * (i)\n",
    "    print(left_spaces + left_stars + right_stars + right_spaces)"
   ]
  },
  {
   "cell_type": "markdown",
   "id": "255e2dee",
   "metadata": {},
   "source": [
    "### **filter**"
   ]
  },
  {
   "cell_type": "code",
   "execution_count": 3,
   "id": "6c881953",
   "metadata": {},
   "outputs": [],
   "source": [
    "def even(num):\n",
    "    if num%2==0:\n",
    "        return True"
   ]
  },
  {
   "cell_type": "code",
   "execution_count": 4,
   "id": "82324af1",
   "metadata": {},
   "outputs": [
    {
     "data": {
      "text/plain": [
       "True"
      ]
     },
     "execution_count": 4,
     "metadata": {},
     "output_type": "execute_result"
    }
   ],
   "source": [
    "even(8)"
   ]
  },
  {
   "cell_type": "code",
   "execution_count": null,
   "id": "45c485e0",
   "metadata": {},
   "outputs": [
    {
     "data": {
      "text/plain": [
       "[2, 4, 6, 8, 10]"
      ]
     },
     "execution_count": 5,
     "metadata": {},
     "output_type": "execute_result"
    }
   ],
   "source": [
    "lst = [1,2,3,4,5,6,7,8,9,10]\n",
    "\n",
    "list(filter(even,lst))"
   ]
  },
  {
   "cell_type": "code",
   "execution_count": null,
   "id": "d2821706",
   "metadata": {},
   "outputs": [
    {
     "data": {
      "text/plain": [
       "[7, 9, 10, 11, 12, 14, 15, 17, 18, 19, 20]"
      ]
     },
     "execution_count": 26,
     "metadata": {},
     "output_type": "execute_result"
    }
   ],
   "source": [
    "lst = [1,2,3,4,5,6,7,8,9,10,13,16,17,19,20]\n",
    "\n",
    "num = [3,4,5,7,9,10,11,12,14,15,17,18,19,20]\n",
    "\n",
    "greater_than_five = list(filter(lambda x:x>5 , num))\n",
    "#greater_than_five = [num for num in lst if num > 5]\n",
    "greater_than_five"
   ]
  },
  {
   "cell_type": "code",
   "execution_count": 32,
   "id": "500b777e",
   "metadata": {},
   "outputs": [
    {
     "data": {
      "text/plain": [
       "[6, 8, 10, 16, 20]"
      ]
     },
     "execution_count": 32,
     "metadata": {},
     "output_type": "execute_result"
    }
   ],
   "source": [
    "lst = [1,2,3,4,5,6,7,8,9,10,13,16,17,19,20]\n",
    "even_and_greater_than_five = list(filter(lambda x: x > 5 and x % 2 == 0, lst))\n",
    "# even_and_greater_than_five = [num for num in lst if num > 5 and num % 2 == 0]\n",
    "even_and_greater_than_five"
   ]
  },
  {
   "cell_type": "code",
   "execution_count": 38,
   "id": "c16f8eea",
   "metadata": {},
   "outputs": [
    {
     "data": {
      "text/plain": [
       "[{'make': 'Toyota', 'model': 'Camry', 'year': 2020, 'color': 'Blue'},\n",
       " {'make': 'Toyota', 'model': 'Camry', 'year': 2020, 'color': 'Blue'}]"
      ]
     },
     "execution_count": 38,
     "metadata": {},
     "output_type": "execute_result"
    }
   ],
   "source": [
    "car = [{'make': 'Toyota','model': 'Camry','year': 2020,'color': 'Blue'},\n",
    "       {'make': 'Toyota','model': 'Camry','year': 2020,'color': 'orange'},\n",
    "       {'make': 'Toyota','model': 'Camry','year': 2020,'color': 'Blue'}]\n",
    "def return_car(car):\n",
    "    return car['color'] == 'Blue'\n",
    "blue_cars = list(filter(return_car, car))\n",
    "blue_cars"
   ]
  },
  {
   "cell_type": "markdown",
   "id": "48c58a85",
   "metadata": {},
   "source": [
    "## **conclusion**\n",
    "the filter() function is a powerful tool for creating iterators that filter items out of an iterable based on a function. it is commonly used for data cleaning, filtering objects, and removing unwanted elements for lists.\n",
    "by mastering filter(), you can write more consice and efficient code for processing and manipulation collection in python"
   ]
  },
  {
   "cell_type": "code",
   "execution_count": null,
   "id": "2d4db835",
   "metadata": {},
   "outputs": [],
   "source": [
    "def celsius_to_fahrenheit(C):\n",
    "    \"\"\"\n",
    "    Convert temperature from Celsius to Fahrenheit.\n",
    "\n",
    "    Parameters:\n",
    "    C (float): The temperature in Celsius.\n",
    "\n",
    "    Returns:\n",
    "    float: The temperature in Fahrenheit.\n",
    "    \"\"\"\n",
    "    return C * 9 / 5 + 32"
   ]
  },
  {
   "cell_type": "code",
   "execution_count": 43,
   "id": "bd6cd810",
   "metadata": {},
   "outputs": [],
   "source": [
    "n = 14\n",
    "cap = 3\n",
    "z = n % cap"
   ]
  },
  {
   "cell_type": "code",
   "execution_count": 45,
   "id": "8c5fe957",
   "metadata": {},
   "outputs": [],
   "source": [
    "def calculate_capacity(n, capacity):\n",
    "    \"\"\"\n",
    "    Calculate the capacity based on the number of items and the capacity per item.\n",
    "\n",
    "    Parameters:\n",
    "    n (int): The total number of items.\n",
    "    capacity (int): The capacity per item.\n",
    "\n",
    "    Returns:\n",
    "    int: The number of full capacities.\n",
    "    \"\"\"\n",
    "    return n // capacity, n % capacity"
   ]
  },
  {
   "cell_type": "code",
   "execution_count": 46,
   "id": "8c050998",
   "metadata": {},
   "outputs": [
    {
     "data": {
      "text/plain": [
       "(4, 2)"
      ]
     },
     "execution_count": 46,
     "metadata": {},
     "output_type": "execute_result"
    }
   ],
   "source": [
    "calculate_capacity(14, 3)"
   ]
  },
  {
   "cell_type": "code",
   "execution_count": null,
   "id": "83dbf6b2",
   "metadata": {},
   "outputs": [],
   "source": [
    "def lift_rounds(n, capacity):\n",
    "    \"\"\"\n",
    "    Function to calculate the number of rounds the lift needs to cover.\n",
    "\n",
    "    Parameters:\n",
    "    n (int): Total number of people.\n",
    "    capacity (int): Maximum number of people the lift can carry in one round.\n",
    "\n",
    "    Returns:\n",
    "    int: The number of rounds required to transport all people to the top floor.\n",
    "    \"\"\"\n",
    "    if capacity <= 0:\n",
    "        raise ValueError(\"Capacity must be greater than 0.\")\n",
    "    return (n + capacity - 1) // capacity  # Ceiling division\n",
    "\n",
    "# Example usage:\n",
    "lift_rounds(n, cap)"
   ]
  },
  {
   "cell_type": "code",
   "execution_count": 1,
   "id": "910462bb",
   "metadata": {},
   "outputs": [],
   "source": [
    "import numpy as np\n",
    "def calculate_mean(numbers):\n",
    "    \"\"\"\n",
    "    Calculate the mean of a list of numbers.\n",
    "\n",
    "    Parameters:\n",
    "    numbers (list): A list of numerical values.\n",
    "\n",
    "    Returns:\n",
    "    float: The mean of the numbers.\n",
    "    \"\"\"\n",
    "    return np.mean(numbers)"
   ]
  },
  {
   "cell_type": "code",
   "execution_count": 2,
   "id": "38cb74eb",
   "metadata": {},
   "outputs": [
    {
     "data": {
      "text/plain": [
       "np.float64(5.5)"
      ]
     },
     "execution_count": 2,
     "metadata": {},
     "output_type": "execute_result"
    }
   ],
   "source": [
    "calculate_mean([1,2,3,4,5,6,7,8,9,10])"
   ]
  },
  {
   "cell_type": "code",
   "execution_count": 3,
   "id": "d5121f9d",
   "metadata": {},
   "outputs": [],
   "source": [
    "from math import *"
   ]
  },
  {
   "cell_type": "code",
   "execution_count": 6,
   "id": "5b9643d2",
   "metadata": {},
   "outputs": [
    {
     "data": {
      "text/plain": [
       "4.0"
      ]
     },
     "execution_count": 6,
     "metadata": {},
     "output_type": "execute_result"
    }
   ],
   "source": [
    "sqrt(16)  # Example usage of math module"
   ]
  },
  {
   "cell_type": "code",
   "execution_count": null,
   "id": "e206a9ed",
   "metadata": {},
   "outputs": [],
   "source": []
  }
 ],
 "metadata": {
  "kernelspec": {
   "display_name": "Python 3",
   "language": "python",
   "name": "python3"
  },
  "language_info": {
   "codemirror_mode": {
    "name": "ipython",
    "version": 3
   },
   "file_extension": ".py",
   "mimetype": "text/x-python",
   "name": "python",
   "nbconvert_exporter": "python",
   "pygments_lexer": "ipython3",
   "version": "3.13.1"
  }
 },
 "nbformat": 4,
 "nbformat_minor": 5
}
