{
 "cells": [
  {
   "cell_type": "markdown",
   "id": "a7ce8368",
   "metadata": {},
   "source": [
    "### temperature converter"
   ]
  },
  {
   "cell_type": "code",
   "execution_count": null,
   "id": "ee3cad98",
   "metadata": {},
   "outputs": [],
   "source": [
    "### celcius to farenheit\n",
    "# This program converts temperature from Celsius to Fahrenheit and Fahrenheit to celsius\n",
    "# The formula is F = C * 9/5 + 32\n",
    "# The program will ask the user to input a temperature in Celsius\n",
    "# and then it will output the equivalent temperature in Fahrenheit\n",
    "# The program will continue to ask for input until the user enters 'exit'\n",
    "# The program will also handle invalid input gracefully\n",
    "# The program will also handle the case where the user enters a number with a decimal point\n",
    "# The program will also handle the case where the user enters a number with a negative sign\n",
    "# The program will also handle the case where the user enters a number with a positive sign\n",
    "# The program will also handle the case where the user enters a number with a space before or after it\n",
    "# The program will also handle the case where the user enters a number with a comma instead of a decimal point\n",
    "# The program will also handle the case where the user enters a number with a period instead of a decimal point\n",
    "# The program will also handle the case where the user enters a number with a comma instead of a decimal point\n",
    "\n",
    "def temperature_conversion():\n",
    "    while True:\n",
    "        user_input = input(\"Enter temperature in Celsius (or 'exit' to quit): \").strip()\n",
    "        if user_input.lower() == 'exit':\n",
    "            print(\"Exiting the program.\")\n",
    "            break\n",
    "        try:\n",
    "            # Check if input contains 'f' or 'c'\n",
    "            val = user_input.lower().replace(' ', '')\n",
    "            if 'f' in val:\n",
    "                fahrenheit = float(val.replace('f', '').replace(',', '.'))\n",
    "                celsius = (fahrenheit - 32) * 5/9\n",
    "                print(f\"{fahrenheit}°F is equal to {celsius:.2f}°C\")\n",
    "            else:\n",
    "                celsius = float(val.replace('c', '').replace(',', '.'))\n",
    "                fahrenheit = celsius * 9/5 + 32\n",
    "                print(f\"{celsius}°C is equal to {fahrenheit:.2f}°F\")\n",
    "        except ValueError:\n",
    "            print(\"Invalid input. Please enter a valid number or 'exit' to quit.\")"
   ]
  },
  {
   "cell_type": "code",
   "execution_count": null,
   "id": "fe55b0e4",
   "metadata": {},
   "outputs": [],
   "source": [
    "### tried my own\n",
    "# def temp_conv():\n",
    "#     while True:\n",
    "#         user_input = input('enter the temp or exit to quit the program').strip()\n",
    "#         if user_input == 'exit':\n",
    "#             print('exiting the program')\n",
    "#             break\n",
    "#         try:\n",
    "#             val = user_input.lower().replace(' ','')\n",
    "#             if 'f' in val:\n",
    "#                 fahrenheit = float(val.replace('f','').replace(' ',''))\n",
    "#                 celcius = (fahrenheit - 32) * 5/9\n",
    "#                 print(f'{fahrenheit} f is equal to {celcius:.2f} c')\n",
    "#             elif 'c' in val:\n",
    "#                 celcius = float(val.replace('c','').replace(',','.'))\n",
    "#                 fahrenheit = celcius * 5/9 + 32\n",
    "#                 print(f'{celcius} c is equal to {fahrenheit:.2f} f')\n",
    "#             else:\n",
    "#                 return False\n",
    "#         except ValueError:\n",
    "#             print(\"Invalid input. Please enter a valid number or 'exit' to quit.\")"
   ]
  },
  {
   "cell_type": "code",
   "execution_count": 7,
   "id": "9e2975da",
   "metadata": {},
   "outputs": [
    {
     "name": "stdout",
     "output_type": "stream",
     "text": [
      "33.0°C is equal to 91.40°F\n",
      "45.0°F is equal to 7.22°C\n",
      "67.0°F is equal to 19.44°C\n",
      "33.0°C is equal to 91.40°F\n",
      "67.5°C is equal to 153.50°F\n",
      "90.0°F is equal to 32.22°C\n",
      "76.23°C is equal to 169.21°F\n",
      "0.0°C is equal to 32.00°F\n",
      "0.0°F is equal to -17.78°C\n",
      "Exiting the program.\n"
     ]
    }
   ],
   "source": [
    "if __name__ == \"__main__\":\n",
    "    temperature_conversion()"
   ]
  },
  {
   "cell_type": "markdown",
   "id": "a4413da5",
   "metadata": {},
   "source": [
    "## strong password checking"
   ]
  },
  {
   "cell_type": "code",
   "execution_count": 3,
   "id": "c47c5352",
   "metadata": {},
   "outputs": [],
   "source": [
    "# generate strong password\n",
    "def strong_password():\n",
    "    import random\n",
    "    import string\n",
    "\n",
    "    def generate_password(length=12):\n",
    "        characters = string.ascii_letters + string.digits + string.punctuation\n",
    "        password = ''.join(random.choice(characters) for _ in range(length))\n",
    "        return password\n",
    "\n",
    "    while True:\n",
    "        user_input = input(\"Enter 'generate' to create a strong password or 'exit' to quit: \").strip()\n",
    "        if user_input.lower() == 'exit':\n",
    "            print(\"Exiting the program.\")\n",
    "            break\n",
    "        elif user_input.lower() == 'generate':\n",
    "            password = generate_password()\n",
    "            print(f\"Generated strong password: {password}\")\n",
    "        else:\n",
    "            print(\"Invalid input. Please enter 'generate' or 'exit'.\")"
   ]
  },
  {
   "cell_type": "code",
   "execution_count": 5,
   "id": "53cf56f5",
   "metadata": {},
   "outputs": [
    {
     "name": "stdout",
     "output_type": "stream",
     "text": [
      "Generated strong password: RWiebi\\9`*N2\n",
      "Exiting the program.\n"
     ]
    }
   ],
   "source": [
    "strong_password()"
   ]
  },
  {
   "cell_type": "code",
   "execution_count": null,
   "id": "a0b6fd68",
   "metadata": {},
   "outputs": [],
   "source": [
    "def str_password(password):\n",
    "    if len(password) <= 8:\n",
    "        return False\n",
    "    if not any (char.isdigit() for char in password):\n",
    "        return False\n",
    "    if not any (char.isupper() for char in password):\n",
    "        return False\n",
    "    if not any (char.islower() for char in password):\n",
    "        return False\n",
    "    if not any (char in ('@#$%&*?/!.,') for char in password ):\n",
    "        return False\n",
    "    return True"
   ]
  },
  {
   "cell_type": "code",
   "execution_count": null,
   "id": "710580b4",
   "metadata": {},
   "outputs": [
    {
     "data": {
      "text/plain": [
       "False"
      ]
     },
     "execution_count": 19,
     "metadata": {},
     "output_type": "execute_result"
    }
   ],
   "source": [
    "str_password(\"Passw0rrdf\")"
   ]
  },
  {
   "cell_type": "code",
   "execution_count": 6,
   "id": "d2ccb866",
   "metadata": {},
   "outputs": [],
   "source": [
    "def is_strong_password(password):\n",
    "    import re\n",
    "    if len(password) < 8:\n",
    "        return False\n",
    "    if not re.search(r\"[a-z]\", password):\n",
    "        return False\n",
    "    if not re.search(r\"[A-Z]\", password):\n",
    "        return False\n",
    "    if not re.search(r\"[0-9]\", password):\n",
    "        return False\n",
    "    if not re.search(r\"[!@#$%^&*(),.?\\\":{}|<>]\", password):\n",
    "        return False\n",
    "    return True"
   ]
  },
  {
   "cell_type": "code",
   "execution_count": 7,
   "id": "9d4687e7",
   "metadata": {},
   "outputs": [
    {
     "data": {
      "text/plain": [
       "False"
      ]
     },
     "execution_count": 7,
     "metadata": {},
     "output_type": "execute_result"
    }
   ],
   "source": [
    "is_strong_password('passwoedrd')\n",
    "    "
   ]
  },
  {
   "cell_type": "code",
   "execution_count": 22,
   "id": "35c84b6f",
   "metadata": {},
   "outputs": [
    {
     "name": "stdout",
     "output_type": "stream",
     "text": [
      "8 is a power of two: True\n"
     ]
    }
   ],
   "source": [
    "def is_power_of_two(n):\n",
    "    \"\"\"Check if a number is a power of two.\"\"\"\n",
    "    if n <= 0:\n",
    "        return False\n",
    "    return (n & (n - 1)) == 0\n",
    "\n",
    "# Example usage:\n",
    "number = 8\n",
    "print(f\"{number} is a power of two: {is_power_of_two(number)}\")"
   ]
  },
  {
   "cell_type": "code",
   "execution_count": null,
   "id": "6f738d79",
   "metadata": {},
   "outputs": [],
   "source": [
    "def PowersofTwo(num):\n",
    "    try:\n",
    "        n = int(num)\n",
    "    except ValueError:\n",
    "        return False\n",
    "    if n <= 0:\n",
    "        return False\n",
    "    return (n & (n - 1)) == 0\n",
    "\n",
    "# keep this function call here \n",
    "print(PowersofTwo(input()))"
   ]
  },
  {
   "cell_type": "code",
   "execution_count": 1,
   "id": "a9b1ff0e",
   "metadata": {},
   "outputs": [
    {
     "name": "stdout",
     "output_type": "stream",
     "text": [
      "cats_and_dogs_are_awesome\n"
     ]
    }
   ],
   "source": [
    "def SnakeCase(strParam):\n",
    "    # Replace all non-letter characters with spaces\n",
    "    filtered = ''\n",
    "    for char in strParam:\n",
    "        if char.isalpha():\n",
    "            filtered += char\n",
    "        else:\n",
    "            filtered += ' '\n",
    "    # Split into words, lowercase, and join with underscores\n",
    "    return '_'.join(word.lower() for word in filtered.strip().split())\n",
    "\n",
    "# keep this function call here \n",
    "print(SnakeCase(input(\"cats AND*Dogs-are Awesome\")))"
   ]
  },
  {
   "cell_type": "code",
   "execution_count": 2,
   "id": "904d2501",
   "metadata": {},
   "outputs": [
    {
     "data": {
      "text/plain": [
       "'cats_and_dogs_are_awesome'"
      ]
     },
     "execution_count": 2,
     "metadata": {},
     "output_type": "execute_result"
    }
   ],
   "source": [
    "SnakeCase(\"cats AND*Dogs-are Awesome\")"
   ]
  },
  {
   "cell_type": "markdown",
   "id": "7b21ad55",
   "metadata": {},
   "source": [
    "### 3) calculate the total cost of items in a shopping cart"
   ]
  },
  {
   "cell_type": "code",
   "execution_count": 8,
   "id": "e617403e",
   "metadata": {},
   "outputs": [
    {
     "data": {
      "text/plain": [
       "4.7"
      ]
     },
     "execution_count": 8,
     "metadata": {},
     "output_type": "execute_result"
    }
   ],
   "source": [
    "def calculate_total_cost(cart):\n",
    "    \"\"\"\n",
    "    Calculate the total cost of items in the cart.\n",
    "    \n",
    "    Args:\n",
    "        cart (list): A list of tuples, where each tuple contains the item name and its price.\n",
    "    \n",
    "    Returns:\n",
    "        float: The total cost of items in the cart.\n",
    "    \"\"\"\n",
    "    total_cost = 0.0\n",
    "    for item in cart:\n",
    "        total_cost += item['price']* item['quantity']\n",
    "    return total_cost\n",
    "\n",
    "# Example usage     \n",
    "# print(f\"Total cost: ${calculate_total_cost(cart):.2f}\")\n",
    "cart = [\n",
    "    {\"name\": \"apple\", \"price\": 1.2, \"quantity\": 2},\n",
    "    {\"name\": \"banana\", \"price\": 0.5, \"quantity\": 3},\n",
    "    {\"name\": \"orange\", \"price\": 0.8, \"quantity\": 1}\n",
    "]\n",
    "\n",
    "calculate_total_cost(cart)"
   ]
  },
  {
   "cell_type": "markdown",
   "id": "03424330",
   "metadata": {},
   "source": [
    "### 4) check if a string is palindrome"
   ]
  },
  {
   "cell_type": "code",
   "execution_count": 1,
   "id": "1c0773bb",
   "metadata": {},
   "outputs": [
    {
     "name": "stdout",
     "output_type": "stream",
     "text": [
      "True\n",
      "False\n"
     ]
    }
   ],
   "source": [
    "def is_palindrome(s):\n",
    "    # Remove spaces and convert to lowercase\n",
    "    s = ''.join(s.split()).lower()\n",
    "    # Check if the string is equal to its reverse\n",
    "    return s == s[::-1]\n",
    "# Example usage\n",
    "print(is_palindrome(\"a man a plan a canal panama\"))  # True\n",
    "print(is_palindrome(\"hello\"))  # False"
   ]
  },
  {
   "cell_type": "markdown",
   "id": "5fed896f",
   "metadata": {},
   "source": [
    "### 5) calculate the factorials of a number using recursion"
   ]
  },
  {
   "cell_type": "code",
   "execution_count": 2,
   "id": "5859394f",
   "metadata": {},
   "outputs": [
    {
     "data": {
      "text/plain": [
       "120"
      ]
     },
     "execution_count": 2,
     "metadata": {},
     "output_type": "execute_result"
    }
   ],
   "source": [
    "def factorial(n):\n",
    "    if n == 0:\n",
    "        return 1\n",
    "    else:\n",
    "        return n * factorial(n - 1)\n",
    "    \n",
    "factorial(5)  # 120"
   ]
  },
  {
   "cell_type": "markdown",
   "id": "7f4a658a",
   "metadata": {},
   "source": [
    "### 6) a function to read a file and count the frequency of each word"
   ]
  },
  {
   "cell_type": "code",
   "execution_count": 2,
   "id": "08358759",
   "metadata": {},
   "outputs": [
    {
     "name": "stdout",
     "output_type": "stream",
     "text": [
      "{'hii': 2, 'hlo': 2, 'my': 1, 'name': 2, 'is': 2, 'rakshak': 2, 'the': 1, 'i': 1, 'told': 1}\n"
     ]
    }
   ],
   "source": [
    "def count_word_frequency(file_path):\n",
    "    word_count = {}\n",
    "    with open (file_path, 'r') as file:\n",
    "        for line in file:\n",
    "            words = line.split()\n",
    "            for word in words:\n",
    "                word = word.lower().strip('.,!?()[]{}\"\\'')\n",
    "                if word in word_count:\n",
    "                    word_count[word] += 1\n",
    "                else:\n",
    "                    word_count[word] = 1\n",
    "    return word_count\n",
    "# Example usage\n",
    "file_path = 'sample.txt'\n",
    "print(count_word_frequency(file_path))"
   ]
  },
  {
   "cell_type": "code",
   "execution_count": null,
   "id": "49a8bd6b",
   "metadata": {},
   "outputs": [],
   "source": []
  },
  {
   "cell_type": "code",
   "execution_count": null,
   "id": "f9712ae9",
   "metadata": {},
   "outputs": [],
   "source": []
  }
 ],
 "metadata": {
  "kernelspec": {
   "display_name": "Python 3",
   "language": "python",
   "name": "python3"
  },
  "language_info": {
   "codemirror_mode": {
    "name": "ipython",
    "version": 3
   },
   "file_extension": ".py",
   "mimetype": "text/x-python",
   "name": "python",
   "nbconvert_exporter": "python",
   "pygments_lexer": "ipython3",
   "version": "3.13.1"
  }
 },
 "nbformat": 4,
 "nbformat_minor": 5
}
