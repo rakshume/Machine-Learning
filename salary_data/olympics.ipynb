{
 "cells": [
  {
   "cell_type": "code",
   "execution_count": 1,
   "metadata": {},
   "outputs": [],
   "source": [
    "import pandas as pd\n",
    "import numpy as np\n",
    "import matplotlib.pyplot as plt\n",
    "import seaborn as sns\n",
    "from sklearn.model_selection import train_test_split\n",
    "from sklearn.linear_model import LinearRegression\n",
    "from sklearn.metrics import mean_squared_error, r2_score, mean_absolute_error\n",
    "from sklearn.preprocessing import PolynomialFeatures"
   ]
  },
  {
   "cell_type": "code",
   "execution_count": 2,
   "metadata": {},
   "outputs": [],
   "source": [
    "df = pd.read_csv(r'C:\\Users\\KSSEEB\\OneDrive\\Documents\\Machine Learning\\salary_data\\olympics-economics.csv')"
   ]
  },
  {
   "cell_type": "code",
   "execution_count": 3,
   "metadata": {},
   "outputs": [
    {
     "data": {
      "text/html": [
       "<div>\n",
       "<style scoped>\n",
       "    .dataframe tbody tr th:only-of-type {\n",
       "        vertical-align: middle;\n",
       "    }\n",
       "\n",
       "    .dataframe tbody tr th {\n",
       "        vertical-align: top;\n",
       "    }\n",
       "\n",
       "    .dataframe thead th {\n",
       "        text-align: right;\n",
       "    }\n",
       "</style>\n",
       "<table border=\"1\" class=\"dataframe\">\n",
       "  <thead>\n",
       "    <tr style=\"text-align: right;\">\n",
       "      <th></th>\n",
       "      <th>country</th>\n",
       "      <th>country_code</th>\n",
       "      <th>gold</th>\n",
       "      <th>silver</th>\n",
       "      <th>bronze</th>\n",
       "      <th>total</th>\n",
       "      <th>gdp</th>\n",
       "      <th>gdp_year</th>\n",
       "      <th>population</th>\n",
       "    </tr>\n",
       "  </thead>\n",
       "  <tbody>\n",
       "    <tr>\n",
       "      <th>0</th>\n",
       "      <td>United States</td>\n",
       "      <td>USA</td>\n",
       "      <td>40</td>\n",
       "      <td>44</td>\n",
       "      <td>42</td>\n",
       "      <td>126</td>\n",
       "      <td>81695.19</td>\n",
       "      <td>2023</td>\n",
       "      <td>334.9</td>\n",
       "    </tr>\n",
       "    <tr>\n",
       "      <th>1</th>\n",
       "      <td>China</td>\n",
       "      <td>CHN</td>\n",
       "      <td>40</td>\n",
       "      <td>27</td>\n",
       "      <td>24</td>\n",
       "      <td>91</td>\n",
       "      <td>12614.06</td>\n",
       "      <td>2023</td>\n",
       "      <td>1410.7</td>\n",
       "    </tr>\n",
       "    <tr>\n",
       "      <th>2</th>\n",
       "      <td>Japan</td>\n",
       "      <td>JPN</td>\n",
       "      <td>20</td>\n",
       "      <td>12</td>\n",
       "      <td>13</td>\n",
       "      <td>45</td>\n",
       "      <td>33834.39</td>\n",
       "      <td>2023</td>\n",
       "      <td>124.5</td>\n",
       "    </tr>\n",
       "    <tr>\n",
       "      <th>3</th>\n",
       "      <td>Australia</td>\n",
       "      <td>AUS</td>\n",
       "      <td>18</td>\n",
       "      <td>19</td>\n",
       "      <td>16</td>\n",
       "      <td>53</td>\n",
       "      <td>64711.77</td>\n",
       "      <td>2023</td>\n",
       "      <td>26.6</td>\n",
       "    </tr>\n",
       "    <tr>\n",
       "      <th>4</th>\n",
       "      <td>France</td>\n",
       "      <td>FRA</td>\n",
       "      <td>16</td>\n",
       "      <td>26</td>\n",
       "      <td>22</td>\n",
       "      <td>64</td>\n",
       "      <td>44460.82</td>\n",
       "      <td>2023</td>\n",
       "      <td>68.2</td>\n",
       "    </tr>\n",
       "  </tbody>\n",
       "</table>\n",
       "</div>"
      ],
      "text/plain": [
       "         country country_code  gold  silver  bronze  total       gdp  \\\n",
       "0  United States          USA    40      44      42    126  81695.19   \n",
       "1          China          CHN    40      27      24     91  12614.06   \n",
       "2          Japan          JPN    20      12      13     45  33834.39   \n",
       "3      Australia          AUS    18      19      16     53  64711.77   \n",
       "4         France          FRA    16      26      22     64  44460.82   \n",
       "\n",
       "   gdp_year  population  \n",
       "0      2023       334.9  \n",
       "1      2023      1410.7  \n",
       "2      2023       124.5  \n",
       "3      2023        26.6  \n",
       "4      2023        68.2  "
      ]
     },
     "execution_count": 3,
     "metadata": {},
     "output_type": "execute_result"
    }
   ],
   "source": [
    "df.head()"
   ]
  },
  {
   "cell_type": "code",
   "execution_count": 4,
   "metadata": {},
   "outputs": [
    {
     "data": {
      "text/plain": [
       "(90, 9)"
      ]
     },
     "execution_count": 4,
     "metadata": {},
     "output_type": "execute_result"
    }
   ],
   "source": [
    "df.shape"
   ]
  },
  {
   "cell_type": "code",
   "execution_count": 5,
   "metadata": {},
   "outputs": [
    {
     "data": {
      "text/plain": [
       "array(['USA', 'CHN', 'JPN', 'AUS', 'FRA', 'NLD', 'GBR', 'KOR', 'ITA',\n",
       "       'DEU', 'NZL', 'CAN', 'UZB', 'HUN', 'ESP', 'SWE', 'KEN', 'NOR',\n",
       "       'IRL', 'BRA', 'IRN', 'UKR', 'ROU', 'GEO', 'BEL', 'BGR', 'SRB',\n",
       "       'CZE', 'DNK', 'AZE', 'HRV', 'CUB', 'BHR', 'SVN', 'TPE', 'AUT',\n",
       "       'HKG', 'PHL', 'DZA', 'IDN', 'ISR', 'POL', 'KAZ', 'JAM', 'ZAF',\n",
       "       'THA', 'ETH', 'CHE', 'ECU', 'PRT', 'GRC', 'ARG', 'EGY', 'TUN',\n",
       "       'BWA', 'CHL', 'LCA', 'UGA', 'DOM', 'GTM', 'MAR', 'DMA', 'PAK',\n",
       "       'TUR', 'MEX', 'ARM', 'COL', 'PRK', 'KGZ', 'LTU', 'IND', 'MDA',\n",
       "       'XKX', 'CYP', 'FJI', 'JOR', 'MNG', 'PAN', 'TJK', 'ALB', 'GRD',\n",
       "       'MYS', 'PRI', 'CPV', 'CIV', 'PER', 'QAT', 'SGP', 'SVK', 'ZMB'],\n",
       "      dtype=object)"
      ]
     },
     "execution_count": 5,
     "metadata": {},
     "output_type": "execute_result"
    }
   ],
   "source": [
    "df['country_code'].unique()"
   ]
  },
  {
   "cell_type": "code",
   "execution_count": 8,
   "metadata": {},
   "outputs": [
    {
     "data": {
      "text/plain": [
       "Index(['country', 'country_code', 'gold', 'silver', 'bronze', 'total', 'gdp',\n",
       "       'gdp_year', 'population'],\n",
       "      dtype='object')"
      ]
     },
     "execution_count": 8,
     "metadata": {},
     "output_type": "execute_result"
    }
   ],
   "source": [
    "df.columns"
   ]
  },
  {
   "cell_type": "code",
   "execution_count": 15,
   "metadata": {},
   "outputs": [
    {
     "data": {
      "text/plain": [
       "country_code\n",
       "ALB     0.0\n",
       "ARG     1.0\n",
       "ARM     0.0\n",
       "AUS    18.0\n",
       "AUT     2.0\n",
       "       ... \n",
       "USA    40.0\n",
       "UZB     8.0\n",
       "XKX     0.0\n",
       "ZAF     1.0\n",
       "ZMB     0.0\n",
       "Name: gold, Length: 90, dtype: float64"
      ]
     },
     "execution_count": 15,
     "metadata": {},
     "output_type": "execute_result"
    }
   ],
   "source": [
    "df.groupby('country_code')['gold'].mean()\n"
   ]
  },
  {
   "cell_type": "code",
   "execution_count": 16,
   "metadata": {},
   "outputs": [
    {
     "data": {
      "text/plain": [
       "country         0\n",
       "country_code    0\n",
       "gold            0\n",
       "silver          0\n",
       "bronze          0\n",
       "total           0\n",
       "gdp             0\n",
       "gdp_year        0\n",
       "population      0\n",
       "dtype: int64"
      ]
     },
     "execution_count": 16,
     "metadata": {},
     "output_type": "execute_result"
    }
   ],
   "source": [
    "df.isnull().sum()"
   ]
  },
  {
   "cell_type": "code",
   "execution_count": 22,
   "metadata": {},
   "outputs": [
    {
     "name": "stdout",
     "output_type": "stream",
     "text": [
      "<class 'pandas.core.frame.DataFrame'>\n",
      "RangeIndex: 90 entries, 0 to 89\n",
      "Data columns (total 9 columns):\n",
      " #   Column        Non-Null Count  Dtype  \n",
      "---  ------        --------------  -----  \n",
      " 0   country       90 non-null     object \n",
      " 1   country_code  90 non-null     object \n",
      " 2   gold          90 non-null     int64  \n",
      " 3   silver        90 non-null     int64  \n",
      " 4   bronze        90 non-null     int64  \n",
      " 5   total         90 non-null     int64  \n",
      " 6   gdp           90 non-null     float64\n",
      " 7   gdp_year      90 non-null     int64  \n",
      " 8   population    90 non-null     float64\n",
      "dtypes: float64(2), int64(5), object(2)\n",
      "memory usage: 6.5+ KB\n"
     ]
    }
   ],
   "source": [
    "df.info()"
   ]
  },
  {
   "cell_type": "code",
   "execution_count": 24,
   "metadata": {},
   "outputs": [
    {
     "data": {
      "text/html": [
       "<div>\n",
       "<style scoped>\n",
       "    .dataframe tbody tr th:only-of-type {\n",
       "        vertical-align: middle;\n",
       "    }\n",
       "\n",
       "    .dataframe tbody tr th {\n",
       "        vertical-align: top;\n",
       "    }\n",
       "\n",
       "    .dataframe thead th {\n",
       "        text-align: right;\n",
       "    }\n",
       "</style>\n",
       "<table border=\"1\" class=\"dataframe\">\n",
       "  <thead>\n",
       "    <tr style=\"text-align: right;\">\n",
       "      <th></th>\n",
       "      <th>count</th>\n",
       "      <th>mean</th>\n",
       "      <th>std</th>\n",
       "      <th>min</th>\n",
       "      <th>25%</th>\n",
       "      <th>50%</th>\n",
       "      <th>75%</th>\n",
       "      <th>max</th>\n",
       "    </tr>\n",
       "  </thead>\n",
       "  <tbody>\n",
       "    <tr>\n",
       "      <th>gold</th>\n",
       "      <td>90.0</td>\n",
       "      <td>3.644444</td>\n",
       "      <td>7.018933</td>\n",
       "      <td>0.00</td>\n",
       "      <td>0.000</td>\n",
       "      <td>1.000</td>\n",
       "      <td>3.0000</td>\n",
       "      <td>40.00</td>\n",
       "    </tr>\n",
       "    <tr>\n",
       "      <th>silver</th>\n",
       "      <td>90.0</td>\n",
       "      <td>3.633333</td>\n",
       "      <td>6.797967</td>\n",
       "      <td>0.00</td>\n",
       "      <td>0.000</td>\n",
       "      <td>1.000</td>\n",
       "      <td>3.0000</td>\n",
       "      <td>44.00</td>\n",
       "    </tr>\n",
       "    <tr>\n",
       "      <th>bronze</th>\n",
       "      <td>90.0</td>\n",
       "      <td>4.255556</td>\n",
       "      <td>6.586607</td>\n",
       "      <td>0.00</td>\n",
       "      <td>1.000</td>\n",
       "      <td>2.000</td>\n",
       "      <td>5.0000</td>\n",
       "      <td>42.00</td>\n",
       "    </tr>\n",
       "    <tr>\n",
       "      <th>total</th>\n",
       "      <td>90.0</td>\n",
       "      <td>11.533333</td>\n",
       "      <td>19.782071</td>\n",
       "      <td>1.00</td>\n",
       "      <td>2.000</td>\n",
       "      <td>5.000</td>\n",
       "      <td>9.0000</td>\n",
       "      <td>126.00</td>\n",
       "    </tr>\n",
       "    <tr>\n",
       "      <th>gdp</th>\n",
       "      <td>90.0</td>\n",
       "      <td>24478.053556</td>\n",
       "      <td>25547.857382</td>\n",
       "      <td>1014.21</td>\n",
       "      <td>5815.180</td>\n",
       "      <td>13061.185</td>\n",
       "      <td>34484.6775</td>\n",
       "      <td>103684.88</td>\n",
       "    </tr>\n",
       "    <tr>\n",
       "      <th>gdp_year</th>\n",
       "      <td>90.0</td>\n",
       "      <td>2022.977778</td>\n",
       "      <td>0.148231</td>\n",
       "      <td>2022.00</td>\n",
       "      <td>2023.000</td>\n",
       "      <td>2023.000</td>\n",
       "      <td>2023.0000</td>\n",
       "      <td>2023.00</td>\n",
       "    </tr>\n",
       "    <tr>\n",
       "      <th>population</th>\n",
       "      <td>90.0</td>\n",
       "      <td>69.027778</td>\n",
       "      <td>213.286437</td>\n",
       "      <td>0.10</td>\n",
       "      <td>5.325</td>\n",
       "      <td>12.150</td>\n",
       "      <td>48.5500</td>\n",
       "      <td>1428.60</td>\n",
       "    </tr>\n",
       "  </tbody>\n",
       "</table>\n",
       "</div>"
      ],
      "text/plain": [
       "            count          mean           std      min       25%        50%  \\\n",
       "gold         90.0      3.644444      7.018933     0.00     0.000      1.000   \n",
       "silver       90.0      3.633333      6.797967     0.00     0.000      1.000   \n",
       "bronze       90.0      4.255556      6.586607     0.00     1.000      2.000   \n",
       "total        90.0     11.533333     19.782071     1.00     2.000      5.000   \n",
       "gdp          90.0  24478.053556  25547.857382  1014.21  5815.180  13061.185   \n",
       "gdp_year     90.0   2022.977778      0.148231  2022.00  2023.000   2023.000   \n",
       "population   90.0     69.027778    213.286437     0.10     5.325     12.150   \n",
       "\n",
       "                   75%        max  \n",
       "gold            3.0000      40.00  \n",
       "silver          3.0000      44.00  \n",
       "bronze          5.0000      42.00  \n",
       "total           9.0000     126.00  \n",
       "gdp         34484.6775  103684.88  \n",
       "gdp_year     2023.0000    2023.00  \n",
       "population     48.5500    1428.60  "
      ]
     },
     "execution_count": 24,
     "metadata": {},
     "output_type": "execute_result"
    }
   ],
   "source": [
    "df.describe().T"
   ]
  },
  {
   "cell_type": "code",
   "execution_count": 25,
   "metadata": {},
   "outputs": [
    {
     "data": {
      "text/html": [
       "<div>\n",
       "<style scoped>\n",
       "    .dataframe tbody tr th:only-of-type {\n",
       "        vertical-align: middle;\n",
       "    }\n",
       "\n",
       "    .dataframe tbody tr th {\n",
       "        vertical-align: top;\n",
       "    }\n",
       "\n",
       "    .dataframe thead th {\n",
       "        text-align: right;\n",
       "    }\n",
       "</style>\n",
       "<table border=\"1\" class=\"dataframe\">\n",
       "  <thead>\n",
       "    <tr style=\"text-align: right;\">\n",
       "      <th></th>\n",
       "      <th>count</th>\n",
       "      <th>unique</th>\n",
       "      <th>top</th>\n",
       "      <th>freq</th>\n",
       "    </tr>\n",
       "  </thead>\n",
       "  <tbody>\n",
       "    <tr>\n",
       "      <th>country</th>\n",
       "      <td>90</td>\n",
       "      <td>90</td>\n",
       "      <td>United States</td>\n",
       "      <td>1</td>\n",
       "    </tr>\n",
       "    <tr>\n",
       "      <th>country_code</th>\n",
       "      <td>90</td>\n",
       "      <td>90</td>\n",
       "      <td>USA</td>\n",
       "      <td>1</td>\n",
       "    </tr>\n",
       "  </tbody>\n",
       "</table>\n",
       "</div>"
      ],
      "text/plain": [
       "             count unique            top freq\n",
       "country         90     90  United States    1\n",
       "country_code    90     90            USA    1"
      ]
     },
     "execution_count": 25,
     "metadata": {},
     "output_type": "execute_result"
    }
   ],
   "source": [
    "df.describe(include=object).T"
   ]
  },
  {
   "cell_type": "code",
   "execution_count": null,
   "metadata": {},
   "outputs": [],
   "source": []
  }
 ],
 "metadata": {
  "kernelspec": {
   "display_name": "Python 3",
   "language": "python",
   "name": "python3"
  },
  "language_info": {
   "codemirror_mode": {
    "name": "ipython",
    "version": 3
   },
   "file_extension": ".py",
   "mimetype": "text/x-python",
   "name": "python",
   "nbconvert_exporter": "python",
   "pygments_lexer": "ipython3",
   "version": "3.12.7"
  }
 },
 "nbformat": 4,
 "nbformat_minor": 2
}
