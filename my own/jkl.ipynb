{
 "cells": [
  {
   "cell_type": "code",
   "execution_count": 23,
   "metadata": {},
   "outputs": [
    {
     "name": "stdout",
     "output_type": "stream",
     "text": [
      "Defaulting to user installation because normal site-packages is not writeable\n",
      "Requirement already satisfied: yfinance in c:\\users\\ksseeb\\appdata\\local\\packages\\pythonsoftwarefoundation.python.3.12_qbz5n2kfra8p0\\localcache\\local-packages\\python312\\site-packages (0.2.48)\n",
      "Requirement already satisfied: pandas>=1.3.0 in c:\\users\\ksseeb\\appdata\\local\\packages\\pythonsoftwarefoundation.python.3.12_qbz5n2kfra8p0\\localcache\\local-packages\\python312\\site-packages (from yfinance) (2.2.3)\n",
      "Requirement already satisfied: numpy>=1.16.5 in c:\\users\\ksseeb\\appdata\\local\\packages\\pythonsoftwarefoundation.python.3.12_qbz5n2kfra8p0\\localcache\\local-packages\\python312\\site-packages (from yfinance) (2.1.1)\n",
      "Requirement already satisfied: requests>=2.31 in c:\\users\\ksseeb\\appdata\\local\\packages\\pythonsoftwarefoundation.python.3.12_qbz5n2kfra8p0\\localcache\\local-packages\\python312\\site-packages (from yfinance) (2.32.3)\n",
      "Requirement already satisfied: multitasking>=0.0.7 in c:\\users\\ksseeb\\appdata\\local\\packages\\pythonsoftwarefoundation.python.3.12_qbz5n2kfra8p0\\localcache\\local-packages\\python312\\site-packages (from yfinance) (0.0.11)\n",
      "Requirement already satisfied: lxml>=4.9.1 in c:\\users\\ksseeb\\appdata\\local\\packages\\pythonsoftwarefoundation.python.3.12_qbz5n2kfra8p0\\localcache\\local-packages\\python312\\site-packages (from yfinance) (5.3.0)\n",
      "Requirement already satisfied: platformdirs>=2.0.0 in c:\\users\\ksseeb\\appdata\\local\\packages\\pythonsoftwarefoundation.python.3.12_qbz5n2kfra8p0\\localcache\\local-packages\\python312\\site-packages (from yfinance) (4.3.6)\n",
      "Requirement already satisfied: pytz>=2022.5 in c:\\users\\ksseeb\\appdata\\local\\packages\\pythonsoftwarefoundation.python.3.12_qbz5n2kfra8p0\\localcache\\local-packages\\python312\\site-packages (from yfinance) (2024.2)\n",
      "Requirement already satisfied: frozendict>=2.3.4 in c:\\users\\ksseeb\\appdata\\local\\packages\\pythonsoftwarefoundation.python.3.12_qbz5n2kfra8p0\\localcache\\local-packages\\python312\\site-packages (from yfinance) (2.4.6)\n",
      "Requirement already satisfied: peewee>=3.16.2 in c:\\users\\ksseeb\\appdata\\local\\packages\\pythonsoftwarefoundation.python.3.12_qbz5n2kfra8p0\\localcache\\local-packages\\python312\\site-packages (from yfinance) (3.17.7)\n",
      "Requirement already satisfied: beautifulsoup4>=4.11.1 in c:\\users\\ksseeb\\appdata\\local\\packages\\pythonsoftwarefoundation.python.3.12_qbz5n2kfra8p0\\localcache\\local-packages\\python312\\site-packages (from yfinance) (4.12.3)\n",
      "Requirement already satisfied: html5lib>=1.1 in c:\\users\\ksseeb\\appdata\\local\\packages\\pythonsoftwarefoundation.python.3.12_qbz5n2kfra8p0\\localcache\\local-packages\\python312\\site-packages (from yfinance) (1.1)\n",
      "Requirement already satisfied: soupsieve>1.2 in c:\\users\\ksseeb\\appdata\\local\\packages\\pythonsoftwarefoundation.python.3.12_qbz5n2kfra8p0\\localcache\\local-packages\\python312\\site-packages (from beautifulsoup4>=4.11.1->yfinance) (2.6)\n",
      "Requirement already satisfied: six>=1.9 in c:\\users\\ksseeb\\appdata\\local\\packages\\pythonsoftwarefoundation.python.3.12_qbz5n2kfra8p0\\localcache\\local-packages\\python312\\site-packages (from html5lib>=1.1->yfinance) (1.16.0)\n",
      "Requirement already satisfied: webencodings in c:\\users\\ksseeb\\appdata\\local\\packages\\pythonsoftwarefoundation.python.3.12_qbz5n2kfra8p0\\localcache\\local-packages\\python312\\site-packages (from html5lib>=1.1->yfinance) (0.5.1)\n",
      "Requirement already satisfied: python-dateutil>=2.8.2 in c:\\users\\ksseeb\\appdata\\local\\packages\\pythonsoftwarefoundation.python.3.12_qbz5n2kfra8p0\\localcache\\local-packages\\python312\\site-packages (from pandas>=1.3.0->yfinance) (2.9.0.post0)\n",
      "Requirement already satisfied: tzdata>=2022.7 in c:\\users\\ksseeb\\appdata\\local\\packages\\pythonsoftwarefoundation.python.3.12_qbz5n2kfra8p0\\localcache\\local-packages\\python312\\site-packages (from pandas>=1.3.0->yfinance) (2024.2)\n",
      "Requirement already satisfied: charset-normalizer<4,>=2 in c:\\users\\ksseeb\\appdata\\local\\packages\\pythonsoftwarefoundation.python.3.12_qbz5n2kfra8p0\\localcache\\local-packages\\python312\\site-packages (from requests>=2.31->yfinance) (3.4.0)\n",
      "Requirement already satisfied: idna<4,>=2.5 in c:\\users\\ksseeb\\appdata\\local\\packages\\pythonsoftwarefoundation.python.3.12_qbz5n2kfra8p0\\localcache\\local-packages\\python312\\site-packages (from requests>=2.31->yfinance) (3.10)\n",
      "Requirement already satisfied: urllib3<3,>=1.21.1 in c:\\users\\ksseeb\\appdata\\local\\packages\\pythonsoftwarefoundation.python.3.12_qbz5n2kfra8p0\\localcache\\local-packages\\python312\\site-packages (from requests>=2.31->yfinance) (2.2.3)\n",
      "Requirement already satisfied: certifi>=2017.4.17 in c:\\users\\ksseeb\\appdata\\local\\packages\\pythonsoftwarefoundation.python.3.12_qbz5n2kfra8p0\\localcache\\local-packages\\python312\\site-packages (from requests>=2.31->yfinance) (2024.8.30)\n",
      "Note: you may need to restart the kernel to use updated packages.\n"
     ]
    },
    {
     "name": "stderr",
     "output_type": "stream",
     "text": [
      "\n",
      "[notice] A new release of pip is available: 24.2 -> 24.3.1\n",
      "[notice] To update, run: C:\\Users\\KSSEEB\\AppData\\Local\\Microsoft\\WindowsApps\\PythonSoftwareFoundation.Python.3.12_qbz5n2kfra8p0\\python.exe -m pip install --upgrade pip\n"
     ]
    }
   ],
   "source": [
    "pip install yfinance"
   ]
  },
  {
   "cell_type": "code",
   "execution_count": 31,
   "metadata": {},
   "outputs": [],
   "source": [
    "import yfinance as yf\n",
    "import pandas as pd\n",
    "import numpy as np"
   ]
  },
  {
   "cell_type": "code",
   "execution_count": 25,
   "metadata": {},
   "outputs": [],
   "source": [
    "df = yf.Ticker('IOC.NS')"
   ]
  },
  {
   "cell_type": "code",
   "execution_count": 26,
   "metadata": {},
   "outputs": [
    {
     "data": {
      "text/plain": [
       "{'address1': '3079/3, J.B. Tito Marg',\n",
       " 'address2': 'Sadiq Nagar',\n",
       " 'city': 'New Delhi',\n",
       " 'zip': '110049',\n",
       " 'country': 'India',\n",
       " 'phone': '91 11 2626 0101',\n",
       " 'fax': '91 11 2626 0100',\n",
       " 'website': 'https://www.iocl.com',\n",
       " 'industry': 'Oil & Gas Refining & Marketing',\n",
       " 'industryKey': 'oil-gas-refining-marketing',\n",
       " 'industryDisp': 'Oil & Gas Refining & Marketing',\n",
       " 'sector': 'Energy',\n",
       " 'sectorKey': 'energy',\n",
       " 'sectorDisp': 'Energy',\n",
       " 'longBusinessSummary': \"Indian Oil Corporation Limited, together with its subsidiaries, refines, pipeline transports, and markets petroleum products in India and internationally. It operates through Sale of Petroleum Products, Sale of Petrochemicals, and Other segments. The company's refinery products include liquefied petroleum gas (LPG), high-speed diesel, motor spirits, kerosene, aviation turbine fuel, light diesel oil, sulphur, raw petroleum coke, carbon black feedstock, naphtha, furnace oil, bitumen, propylene, polypropylene, monoethylene glycol, reformate, light cycle oil, purified terephthalic acid, jute batching oil, lube oil base stocks, sulfuric acid, polymer grade hexane, methyl tert-butyl ether, benzene, aviation gasoline, para-xylene, aromatics, and paraffin wax. It is also involved in the operation of fuel stations, supply of piped and compressed natural gas; exploration and production of crude oil and gas and petrochemicals; manufacture and sale of cryogenics comprising aluminum cryocans, cryogenic vessels, pressure vessels, and lube and aviation equipment, as well as bulk explosives; and provision of non-fuel products, such as LPG stoves, hoses, and cylinder trolleys, as well as indoor solar cooking systems, kitchen aprons, and gas lighters. In addition, the company engages in the wind and solar power generation; terminalling, retailing, and aviation refueling; lube blending and marketing; bunkering; refining and pipeline consultancy activities; licensing of technologies; and provision of financial services. Additionally, it operates Fuel@Call, a cloud-based technology platform for on-demand fuel delivery service for industrial and commercial customers; provides marine oils, including bunker fuels and marine lubricants; and spray and specialty oils, metal working and railroad oils, lubes, and greases for automobiles, agricultural equipment, stationary engines, and marine industries. The company was incorporated in 1959 and is based in New Delhi, India.\",\n",
       " 'fullTimeEmployees': 30321,\n",
       " 'companyOfficers': [{'maxAge': 1,\n",
       "   'name': 'Mr. Satish Kumar Vaduguri',\n",
       "   'title': 'Chairman & Director of Marketing',\n",
       "   'fiscalYear': 2024,\n",
       "   'totalPay': 9045617,\n",
       "   'exercisedValue': 0,\n",
       "   'unexercisedValue': 0},\n",
       "  {'maxAge': 1,\n",
       "   'name': 'Mr. Anuj  Jain',\n",
       "   'age': 51,\n",
       "   'title': 'Director of Finance',\n",
       "   'yearBorn': 1972,\n",
       "   'fiscalYear': 2024,\n",
       "   'totalPay': 2793398,\n",
       "   'exercisedValue': 0,\n",
       "   'unexercisedValue': 0},\n",
       "  {'maxAge': 1,\n",
       "   'name': 'Mr. Kamal Kumar Gwalani',\n",
       "   'title': 'Compliance Officer & Company Secretary',\n",
       "   'fiscalYear': 2024,\n",
       "   'totalPay': 7500000,\n",
       "   'exercisedValue': 0,\n",
       "   'unexercisedValue': 0},\n",
       "  {'maxAge': 1,\n",
       "   'name': 'Ms. Rashmi  Govil',\n",
       "   'age': 52,\n",
       "   'title': 'Director & Director Human Resources',\n",
       "   'yearBorn': 1971,\n",
       "   'fiscalYear': 2024,\n",
       "   'totalPay': 440825,\n",
       "   'exercisedValue': 0,\n",
       "   'unexercisedValue': 0},\n",
       "  {'maxAge': 1,\n",
       "   'name': 'Mr. Ranjan Kumar Mohapatra',\n",
       "   'age': 58,\n",
       "   'title': 'Executive Director & Head of IndianOil Institute of Petroleum Management',\n",
       "   'yearBorn': 1965,\n",
       "   'fiscalYear': 2024,\n",
       "   'totalPay': 1424443,\n",
       "   'exercisedValue': 0,\n",
       "   'unexercisedValue': 0},\n",
       "  {'maxAge': 1,\n",
       "   'name': 'Mr. Nachimuthu  Senthil Kumar',\n",
       "   'age': 58,\n",
       "   'title': 'Director of Planning & Business Development (Additional Charge), Director of Pipelines and Director',\n",
       "   'yearBorn': 1965,\n",
       "   'fiscalYear': 2024,\n",
       "   'totalPay': 6065121,\n",
       "   'exercisedValue': 0,\n",
       "   'unexercisedValue': 0},\n",
       "  {'maxAge': 1,\n",
       "   'name': 'Mr. Alok  Sharma',\n",
       "   'age': 57,\n",
       "   'title': 'Director of Research & Development and Director',\n",
       "   'yearBorn': 1966,\n",
       "   'fiscalYear': 2024,\n",
       "   'totalPay': 2606343,\n",
       "   'exercisedValue': 0,\n",
       "   'unexercisedValue': 0},\n",
       "  {'maxAge': 1,\n",
       "   'name': 'Mr. Anant Kumar Singh',\n",
       "   'age': 55,\n",
       "   'title': 'Chief Vigilance Officer',\n",
       "   'yearBorn': 1968,\n",
       "   'fiscalYear': 2024,\n",
       "   'exercisedValue': 0,\n",
       "   'unexercisedValue': 0},\n",
       "  {'maxAge': 1,\n",
       "   'name': 'Mr. Chandrasekaran Shankar Tennankore',\n",
       "   'title': 'Executive Director of Finance, Pipelines & Chief Risk Officer',\n",
       "   'fiscalYear': 2024,\n",
       "   'exercisedValue': 0,\n",
       "   'unexercisedValue': 0},\n",
       "  {'maxAge': 1,\n",
       "   'name': 'Mr. Arvind  Kumar',\n",
       "   'age': 56,\n",
       "   'title': 'Director & Director of Refineries',\n",
       "   'yearBorn': 1967,\n",
       "   'fiscalYear': 2024,\n",
       "   'exercisedValue': 0,\n",
       "   'unexercisedValue': 0}],\n",
       " 'auditRisk': 10,\n",
       " 'boardRisk': 5,\n",
       " 'compensationRisk': 1,\n",
       " 'shareHolderRightsRisk': 4,\n",
       " 'overallRisk': 4,\n",
       " 'governanceEpochDate': 1730419200,\n",
       " 'compensationAsOfEpochDate': 1735603200,\n",
       " 'maxAge': 86400,\n",
       " 'priceHint': 2,\n",
       " 'previousClose': 140.34,\n",
       " 'open': 138.8,\n",
       " 'dayLow': 137.67,\n",
       " 'dayHigh': 140.7,\n",
       " 'regularMarketPreviousClose': 140.34,\n",
       " 'regularMarketOpen': 138.8,\n",
       " 'regularMarketDayLow': 137.67,\n",
       " 'regularMarketDayHigh': 140.7,\n",
       " 'dividendRate': 15.0,\n",
       " 'dividendYield': 0.1069,\n",
       " 'exDividendDate': 1720742400,\n",
       " 'payoutRatio': 0.94269997,\n",
       " 'fiveYearAvgDividendYield': 7.07,\n",
       " 'beta': 0.832,\n",
       " 'trailingPE': 10.9677925,\n",
       " 'forwardPE': 8.126891,\n",
       " 'volume': 15184182,\n",
       " 'regularMarketVolume': 15184182,\n",
       " 'averageVolume': 18106972,\n",
       " 'averageVolume10days': 21005586,\n",
       " 'averageDailyVolume10Day': 21005586,\n",
       " 'bid': 139.59,\n",
       " 'ask': 139.64,\n",
       " 'marketCap': 1971601801216,\n",
       " 'fiftyTwoWeekLow': 97.55,\n",
       " 'fiftyTwoWeekHigh': 196.8,\n",
       " 'priceToSalesTrailing12Months': 0.2570951,\n",
       " 'fiftyDayAverage': 163.7698,\n",
       " 'twoHundredDayAverage': 168.5509,\n",
       " 'trailingAnnualDividendRate': 7.0,\n",
       " 'trailingAnnualDividendYield': 0.049878865,\n",
       " 'currency': 'INR',\n",
       " 'enterpriseValue': 3548540829696,\n",
       " 'profitMargins': 0.022869999,\n",
       " 'floatShares': 3463530183,\n",
       " 'sharesOutstanding': 14121199616,\n",
       " 'heldPercentInsiders': 0.73337,\n",
       " 'heldPercentInstitutions': 0.14225,\n",
       " 'impliedSharesOutstanding': 14504599552,\n",
       " 'bookValue': 128.34,\n",
       " 'priceToBook': 1.0878916,\n",
       " 'lastFiscalYearEnd': 1711843200,\n",
       " 'nextFiscalYearEnd': 1743379200,\n",
       " 'mostRecentQuarter': 1727654400,\n",
       " 'netIncomeToCommon': 175373402112,\n",
       " 'trailingEps': 12.73,\n",
       " 'forwardEps': 17.18,\n",
       " 'pegRatio': -2.26,\n",
       " 'lastSplitFactor': '3:2',\n",
       " 'lastSplitDate': 1656547200,\n",
       " 'enterpriseToRevenue': 0.463,\n",
       " 'enterpriseToEbitda': 8.183,\n",
       " '52WeekChange': 0.41757572,\n",
       " 'SandP52WeekChange': 0.35905516,\n",
       " 'lastDividendValue': 7.0,\n",
       " 'lastDividendDate': 1720742400,\n",
       " 'exchange': 'NSI',\n",
       " 'quoteType': 'EQUITY',\n",
       " 'symbol': 'IOC.NS',\n",
       " 'underlyingSymbol': 'IOC.NS',\n",
       " 'shortName': 'INDIAN OIL CORP LTD',\n",
       " 'longName': 'Indian Oil Corporation Limited',\n",
       " 'firstTradeDateEpochUtc': 829539900,\n",
       " 'timeZoneFullName': 'Asia/Kolkata',\n",
       " 'timeZoneShortName': 'IST',\n",
       " 'uuid': '5c85b630-cee2-3375-ab0c-d2929d19072c',\n",
       " 'messageBoardId': 'finmb_7844179',\n",
       " 'gmtOffSetMilliseconds': 19800000,\n",
       " 'currentPrice': 139.62,\n",
       " 'targetHighPrice': 246.0,\n",
       " 'targetLowPrice': 100.0,\n",
       " 'targetMeanPrice': 166.0,\n",
       " 'targetMedianPrice': 162.5,\n",
       " 'recommendationMean': 2.9,\n",
       " 'recommendationKey': 'hold',\n",
       " 'numberOfAnalystOpinions': 30,\n",
       " 'totalCash': 111221702656,\n",
       " 'totalCashPerShare': 7.87,\n",
       " 'ebitda': 433656889344,\n",
       " 'totalDebt': 1634008694784,\n",
       " 'quickRatio': 0.107,\n",
       " 'currentRatio': 0.687,\n",
       " 'totalRevenue': 7668764246016,\n",
       " 'debtToEquity': 88.031,\n",
       " 'revenuePerShare': 556.91,\n",
       " 'returnOnAssets': 0.03421,\n",
       " 'returnOnEquity': 0.10087,\n",
       " 'freeCashflow': -315403304960,\n",
       " 'operatingCashflow': 129974796288,\n",
       " 'revenueGrowth': -0.024,\n",
       " 'grossMargins': 0.1303,\n",
       " 'ebitdaMargins': 0.056550004,\n",
       " 'operatingMargins': -0.00341,\n",
       " 'financialCurrency': 'INR',\n",
       " 'trailingPegRatio': None}"
      ]
     },
     "execution_count": 26,
     "metadata": {},
     "output_type": "execute_result"
    }
   ],
   "source": [
    "df.info"
   ]
  },
  {
   "cell_type": "code",
   "execution_count": 27,
   "metadata": {},
   "outputs": [
    {
     "data": {
      "text/plain": [
       "np.float64(1.7249999318181821)"
      ]
     },
     "execution_count": 27,
     "metadata": {},
     "output_type": "execute_result"
    }
   ],
   "source": [
    "df.dividends.mean()"
   ]
  },
  {
   "cell_type": "code",
   "execution_count": 28,
   "metadata": {},
   "outputs": [
    {
     "data": {
      "text/plain": [
       "Date\n",
       "1999-09-27 00:00:00+05:30    2.0\n",
       "2003-08-14 00:00:00+05:30    1.5\n",
       "2009-10-29 00:00:00+05:30    2.0\n",
       "2016-10-18 00:00:00+05:30    2.0\n",
       "2018-03-15 00:00:00+05:30    2.0\n",
       "2022-06-30 00:00:00+05:30    1.5\n",
       "Name: Stock Splits, dtype: float64"
      ]
     },
     "execution_count": 28,
     "metadata": {},
     "output_type": "execute_result"
    }
   ],
   "source": [
    "df.splits"
   ]
  },
  {
   "cell_type": "code",
   "execution_count": null,
   "metadata": {},
   "outputs": [
    {
     "ename": "AttributeError",
     "evalue": "'Ticker' object has no attribute 'coloms'",
     "output_type": "error",
     "traceback": [
      "\u001b[1;31m---------------------------------------------------------------------------\u001b[0m",
      "\u001b[1;31mAttributeError\u001b[0m                            Traceback (most recent call last)",
      "Cell \u001b[1;32mIn[30], line 1\u001b[0m\n\u001b[1;32m----> 1\u001b[0m \u001b[43mdf\u001b[49m\u001b[38;5;241;43m.\u001b[39;49m\u001b[43mcoloms\u001b[49m\n",
      "\u001b[1;31mAttributeError\u001b[0m: 'Ticker' object has no attribute 'coloms'"
     ]
    }
   ],
   "source": []
  },
  {
   "cell_type": "code",
   "execution_count": 29,
   "metadata": {},
   "outputs": [
    {
     "ename": "AttributeError",
     "evalue": "module 'pandas' has no attribute 'x'",
     "output_type": "error",
     "traceback": [
      "\u001b[1;31m---------------------------------------------------------------------------\u001b[0m",
      "\u001b[1;31mAttributeError\u001b[0m                            Traceback (most recent call last)",
      "Cell \u001b[1;32mIn[29], line 1\u001b[0m\n\u001b[1;32m----> 1\u001b[0m x \u001b[38;5;241m=\u001b[39m \u001b[43mpd\u001b[49m\u001b[38;5;241;43m.\u001b[39;49m\u001b[43mx\u001b[49m(df)\n",
      "\u001b[1;31mAttributeError\u001b[0m: module 'pandas' has no attribute 'x'"
     ]
    }
   ],
   "source": [
    "x = pd.x(df)"
   ]
  },
  {
   "cell_type": "code",
   "execution_count": null,
   "metadata": {},
   "outputs": [
    {
     "data": {
      "text/plain": [
       "2024-10-22 00:00:00+05:30    14121199616\n",
       "2024-10-23 00:00:00+05:30    14558600192\n",
       "2024-10-24 00:00:00+05:30    14340100096\n",
       "2024-10-24 00:00:00+05:30    14121199616\n",
       "2024-10-26 00:00:00+05:30    14761100288\n",
       "dtype: int64"
      ]
     },
     "execution_count": 53,
     "metadata": {},
     "output_type": "execute_result"
    }
   ],
   "source": [
    "df.get_shares_full(start=\"2000-01-01\", end=None).tail()"
   ]
  },
  {
   "cell_type": "code",
   "execution_count": null,
   "metadata": {},
   "outputs": [
    {
     "data": {
      "text/html": [
       "<div>\n",
       "<style scoped>\n",
       "    .dataframe tbody tr th:only-of-type {\n",
       "        vertical-align: middle;\n",
       "    }\n",
       "\n",
       "    .dataframe tbody tr th {\n",
       "        vertical-align: top;\n",
       "    }\n",
       "\n",
       "    .dataframe thead th {\n",
       "        text-align: right;\n",
       "    }\n",
       "</style>\n",
       "<table border=\"1\" class=\"dataframe\">\n",
       "  <thead>\n",
       "    <tr style=\"text-align: right;\">\n",
       "      <th>Breakdown</th>\n",
       "      <th>Value</th>\n",
       "    </tr>\n",
       "  </thead>\n",
       "  <tbody>\n",
       "    <tr>\n",
       "      <th>insidersPercentHeld</th>\n",
       "      <td>0.73337</td>\n",
       "    </tr>\n",
       "    <tr>\n",
       "      <th>institutionsPercentHeld</th>\n",
       "      <td>0.14080</td>\n",
       "    </tr>\n",
       "    <tr>\n",
       "      <th>institutionsFloatPercentHeld</th>\n",
       "      <td>0.52806</td>\n",
       "    </tr>\n",
       "    <tr>\n",
       "      <th>institutionsCount</th>\n",
       "      <td>180.00000</td>\n",
       "    </tr>\n",
       "  </tbody>\n",
       "</table>\n",
       "</div>"
      ],
      "text/plain": [
       "Breakdown                         Value\n",
       "insidersPercentHeld             0.73337\n",
       "institutionsPercentHeld         0.14080\n",
       "institutionsFloatPercentHeld    0.52806\n",
       "institutionsCount             180.00000"
      ]
     },
     "execution_count": 49,
     "metadata": {},
     "output_type": "execute_result"
    }
   ],
   "source": [
    "df.major_holders"
   ]
  },
  {
   "cell_type": "code",
   "execution_count": null,
   "metadata": {},
   "outputs": [
    {
     "data": {
      "text/html": [
       "<div>\n",
       "<style scoped>\n",
       "    .dataframe tbody tr th:only-of-type {\n",
       "        vertical-align: middle;\n",
       "    }\n",
       "\n",
       "    .dataframe tbody tr th {\n",
       "        vertical-align: top;\n",
       "    }\n",
       "\n",
       "    .dataframe thead th {\n",
       "        text-align: right;\n",
       "    }\n",
       "</style>\n",
       "<table border=\"1\" class=\"dataframe\">\n",
       "  <thead>\n",
       "    <tr style=\"text-align: right;\">\n",
       "      <th></th>\n",
       "    </tr>\n",
       "  </thead>\n",
       "  <tbody>\n",
       "  </tbody>\n",
       "</table>\n",
       "</div>"
      ],
      "text/plain": [
       "Empty DataFrame\n",
       "Columns: []\n",
       "Index: []"
      ]
     },
     "execution_count": 54,
     "metadata": {},
     "output_type": "execute_result"
    }
   ],
   "source": [
    "df.institutional_holders"
   ]
  },
  {
   "cell_type": "code",
   "execution_count": null,
   "metadata": {},
   "outputs": [
    {
     "data": {
      "text/html": [
       "<div>\n",
       "<style scoped>\n",
       "    .dataframe tbody tr th:only-of-type {\n",
       "        vertical-align: middle;\n",
       "    }\n",
       "\n",
       "    .dataframe tbody tr th {\n",
       "        vertical-align: top;\n",
       "    }\n",
       "\n",
       "    .dataframe thead th {\n",
       "        text-align: right;\n",
       "    }\n",
       "</style>\n",
       "<table border=\"1\" class=\"dataframe\">\n",
       "  <thead>\n",
       "    <tr style=\"text-align: right;\">\n",
       "      <th></th>\n",
       "      <th>Date Reported</th>\n",
       "      <th>Holder</th>\n",
       "      <th>pctHeld</th>\n",
       "      <th>Shares</th>\n",
       "      <th>Value</th>\n",
       "    </tr>\n",
       "  </thead>\n",
       "  <tbody>\n",
       "    <tr>\n",
       "      <th>0</th>\n",
       "      <td>2023-07-31</td>\n",
       "      <td>Vanguard International Stock Index-Emerging Ma...</td>\n",
       "      <td>0.0041</td>\n",
       "      <td>57223368</td>\n",
       "      <td>5450525802</td>\n",
       "    </tr>\n",
       "    <tr>\n",
       "      <th>1</th>\n",
       "      <td>2023-07-31</td>\n",
       "      <td>Vanguard International Stock Index-Total Intl ...</td>\n",
       "      <td>0.0039</td>\n",
       "      <td>54940140</td>\n",
       "      <td>5233048335</td>\n",
       "    </tr>\n",
       "    <tr>\n",
       "      <th>2</th>\n",
       "      <td>2023-08-31</td>\n",
       "      <td>iShares Core MSCI Emerging Markets ETF</td>\n",
       "      <td>0.0019</td>\n",
       "      <td>26836924</td>\n",
       "      <td>2391169928</td>\n",
       "    </tr>\n",
       "    <tr>\n",
       "      <th>3</th>\n",
       "      <td>2023-05-31</td>\n",
       "      <td>Schwab Strategic Tr-Schwab Fundamental Emg Mkt...</td>\n",
       "      <td>0.0016</td>\n",
       "      <td>23284816</td>\n",
       "      <td>2095633440</td>\n",
       "    </tr>\n",
       "    <tr>\n",
       "      <th>4</th>\n",
       "      <td>2023-08-31</td>\n",
       "      <td>iShares MSCI India ETF</td>\n",
       "      <td>0.0012</td>\n",
       "      <td>16558834</td>\n",
       "      <td>1475392109</td>\n",
       "    </tr>\n",
       "  </tbody>\n",
       "</table>\n",
       "</div>"
      ],
      "text/plain": [
       "  Date Reported                                             Holder  pctHeld  \\\n",
       "0    2023-07-31  Vanguard International Stock Index-Emerging Ma...   0.0041   \n",
       "1    2023-07-31  Vanguard International Stock Index-Total Intl ...   0.0039   \n",
       "2    2023-08-31             iShares Core MSCI Emerging Markets ETF   0.0019   \n",
       "3    2023-05-31  Schwab Strategic Tr-Schwab Fundamental Emg Mkt...   0.0016   \n",
       "4    2023-08-31                             iShares MSCI India ETF   0.0012   \n",
       "\n",
       "     Shares       Value  \n",
       "0  57223368  5450525802  \n",
       "1  54940140  5233048335  \n",
       "2  26836924  2391169928  \n",
       "3  23284816  2095633440  \n",
       "4  16558834  1475392109  "
      ]
     },
     "execution_count": 57,
     "metadata": {},
     "output_type": "execute_result"
    }
   ],
   "source": [
    "df.mutualfund_holders.head()"
   ]
  },
  {
   "cell_type": "code",
   "execution_count": null,
   "metadata": {},
   "outputs": [
    {
     "data": {
      "text/html": [
       "<div>\n",
       "<style scoped>\n",
       "    .dataframe tbody tr th:only-of-type {\n",
       "        vertical-align: middle;\n",
       "    }\n",
       "\n",
       "    .dataframe tbody tr th {\n",
       "        vertical-align: top;\n",
       "    }\n",
       "\n",
       "    .dataframe thead th {\n",
       "        text-align: right;\n",
       "    }\n",
       "</style>\n",
       "<table border=\"1\" class=\"dataframe\">\n",
       "  <thead>\n",
       "    <tr style=\"text-align: right;\">\n",
       "      <th></th>\n",
       "      <th>Insider Purchases Last 6m</th>\n",
       "      <th>Shares</th>\n",
       "      <th>Trans</th>\n",
       "    </tr>\n",
       "  </thead>\n",
       "  <tbody>\n",
       "    <tr>\n",
       "      <th>0</th>\n",
       "      <td>Purchases</td>\n",
       "      <td>0</td>\n",
       "      <td>0</td>\n",
       "    </tr>\n",
       "    <tr>\n",
       "      <th>1</th>\n",
       "      <td>Sales</td>\n",
       "      <td>&lt;NA&gt;</td>\n",
       "      <td>0</td>\n",
       "    </tr>\n",
       "    <tr>\n",
       "      <th>2</th>\n",
       "      <td>Net Shares Purchased (Sold)</td>\n",
       "      <td>0</td>\n",
       "      <td>0</td>\n",
       "    </tr>\n",
       "    <tr>\n",
       "      <th>3</th>\n",
       "      <td>Total Insider Shares Held</td>\n",
       "      <td>10099649536</td>\n",
       "      <td>&lt;NA&gt;</td>\n",
       "    </tr>\n",
       "    <tr>\n",
       "      <th>4</th>\n",
       "      <td>% Net Shares Purchased (Sold)</td>\n",
       "      <td>&lt;NA&gt;</td>\n",
       "      <td>&lt;NA&gt;</td>\n",
       "    </tr>\n",
       "    <tr>\n",
       "      <th>5</th>\n",
       "      <td>% Buy Shares</td>\n",
       "      <td>&lt;NA&gt;</td>\n",
       "      <td>&lt;NA&gt;</td>\n",
       "    </tr>\n",
       "    <tr>\n",
       "      <th>6</th>\n",
       "      <td>% Sell Shares</td>\n",
       "      <td>&lt;NA&gt;</td>\n",
       "      <td>&lt;NA&gt;</td>\n",
       "    </tr>\n",
       "  </tbody>\n",
       "</table>\n",
       "</div>"
      ],
      "text/plain": [
       "       Insider Purchases Last 6m       Shares  Trans\n",
       "0                      Purchases            0      0\n",
       "1                          Sales         <NA>      0\n",
       "2    Net Shares Purchased (Sold)            0      0\n",
       "3      Total Insider Shares Held  10099649536   <NA>\n",
       "4  % Net Shares Purchased (Sold)         <NA>   <NA>\n",
       "5                   % Buy Shares         <NA>   <NA>\n",
       "6                  % Sell Shares         <NA>   <NA>"
      ]
     },
     "execution_count": 58,
     "metadata": {},
     "output_type": "execute_result"
    }
   ],
   "source": [
    "df.insider_purchases"
   ]
  },
  {
   "cell_type": "code",
   "execution_count": null,
   "metadata": {},
   "outputs": [
    {
     "data": {
      "text/plain": [
       "[{'uuid': '51ad9b05-bb6a-3a63-913f-0a9eca790f34',\n",
       "  'title': 'Brazil fines meatpacking companies, including giant JBS, for buying illegally raised cattle',\n",
       "  'publisher': 'Associated Press Finance',\n",
       "  'link': 'https://finance.yahoo.com/news/brazil-fines-meatpacking-companies-including-182015020.html',\n",
       "  'providerPublishTime': 1730139615,\n",
       "  'type': 'STORY',\n",
       "  'thumbnail': {'resolutions': [{'url': 'https://s.yimg.com/uu/api/res/1.2/9ykhPN3KxL07bxiMiKxfFQ--~B/aD00OTQxO3c9NzQxMTthcHBpZD15dGFjaHlvbg--/https://media.zenfs.com/en/ap_finance_articles_694/1553340707ddccb73935d695aa3dc608',\n",
       "     'width': 7411,\n",
       "     'height': 4941,\n",
       "     'tag': 'original'},\n",
       "    {'url': 'https://s.yimg.com/uu/api/res/1.2/F7XvBVCoeigXwgHSNklYWQ--~B/Zmk9ZmlsbDtoPTE0MDtweW9mZj0wO3c9MTQwO2FwcGlkPXl0YWNoeW9u/https://media.zenfs.com/en/ap_finance_articles_694/1553340707ddccb73935d695aa3dc608',\n",
       "     'width': 140,\n",
       "     'height': 140,\n",
       "     'tag': '140x140'}]},\n",
       "  'relatedTickers': ['JBSAY']},\n",
       " {'uuid': '10fb7ff5-c8f3-369b-832e-1bb70b80c94d',\n",
       "  'title': 'Canadian Investment Regulatory Organization Trade Resumption - HODL',\n",
       "  'publisher': 'CNW Group',\n",
       "  'link': 'https://finance.yahoo.com/news/canadian-investment-regulatory-organization-trade-182000575.html',\n",
       "  'providerPublishTime': 1730139600,\n",
       "  'type': 'STORY',\n",
       "  'thumbnail': {'resolutions': [{'url': 'https://s.yimg.com/uu/api/res/1.2/uLQc4Gfg0D2aEKBa5gIF8Q--~B/aD0xNjt3PTE2O2FwcGlkPXl0YWNoeW9u/https://media.zenfs.com/en/cnwgroup.com/39dbf14659801eb8a6290aac8e06d938',\n",
       "     'width': 16,\n",
       "     'height': 16,\n",
       "     'tag': 'original'},\n",
       "    {'url': 'https://s.yimg.com/uu/api/res/1.2/IugpiBdpcITNK2aYxSqWTw--~B/Zmk9ZmlsbDtoPTE0MDtweW9mZj0wO3c9MTQwO2FwcGlkPXl0YWNoeW9u/https://media.zenfs.com/en/cnwgroup.com/39dbf14659801eb8a6290aac8e06d938',\n",
       "     'width': 140,\n",
       "     'height': 140,\n",
       "     'tag': '140x140'}]},\n",
       "  'relatedTickers': ['CYFRF']},\n",
       " {'uuid': '0d83df1e-a341-3efa-b7c4-b3b8591836f6',\n",
       "  'title': 'Wiz CEO explains why he turned down a $23 billion deal',\n",
       "  'publisher': 'TechCrunch',\n",
       "  'link': 'https://finance.yahoo.com/m/0d83df1e-a341-3efa-b7c4-b3b8591836f6/wiz-ceo-explains-why-he.html',\n",
       "  'providerPublishTime': 1730139534,\n",
       "  'type': 'STORY',\n",
       "  'thumbnail': {'resolutions': [{'url': 'https://s.yimg.com/uu/api/res/1.2/wEgwOCsufw4TxR81yYausA--~B/aD0xMzkxO3c9MjA4NjthcHBpZD15dGFjaHlvbg--/https://media.zenfs.com/en/techcrunch_350/c11629f645ba437dab071ab0bb5522c5',\n",
       "     'width': 2086,\n",
       "     'height': 1391,\n",
       "     'tag': 'original'},\n",
       "    {'url': 'https://s.yimg.com/uu/api/res/1.2/Szo27RkU2klndNsDmQEaAA--~B/Zmk9ZmlsbDtoPTE0MDtweW9mZj0wO3c9MTQwO2FwcGlkPXl0YWNoeW9u/https://media.zenfs.com/en/techcrunch_350/c11629f645ba437dab071ab0bb5522c5',\n",
       "     'width': 140,\n",
       "     'height': 140,\n",
       "     'tag': '140x140'}]}},\n",
       " {'uuid': 'e3986d47-0e1a-3179-a142-edeb59cbcb17',\n",
       "  'title': '4 ways to invest in municipal bonds',\n",
       "  'publisher': 'Bankrate',\n",
       "  'link': 'https://finance.yahoo.com/news/4-ways-invest-municipal-bonds-181740095.html',\n",
       "  'providerPublishTime': 1730139460,\n",
       "  'type': 'STORY',\n",
       "  'thumbnail': {'resolutions': [{'url': 'https://s.yimg.com/uu/api/res/1.2/7vbjPXXFmjEbD43wUqvT_Q--~B/aD03MjA7dz0xMjgwO2FwcGlkPXl0YWNoeW9u/https://media.zenfs.com/en/bankrate_626/df6a411e52212a8d07d98480758fdf03',\n",
       "     'width': 1280,\n",
       "     'height': 720,\n",
       "     'tag': 'original'},\n",
       "    {'url': 'https://s.yimg.com/uu/api/res/1.2/PSpzmy53DKz6b2ASmGzvuQ--~B/Zmk9ZmlsbDtoPTE0MDtweW9mZj0wO3c9MTQwO2FwcGlkPXl0YWNoeW9u/https://media.zenfs.com/en/bankrate_626/df6a411e52212a8d07d98480758fdf03',\n",
       "     'width': 140,\n",
       "     'height': 140,\n",
       "     'tag': '140x140'}]}},\n",
       " {'uuid': 'c59ec439-3f46-33d1-8a11-b8cf4487e1a8',\n",
       "  'title': \"Surgical Robotics Provider PROCEPT BioRobotics' Q3 Earnings Beats Street View, Analyst Optimistic About Upside Potential\",\n",
       "  'publisher': 'Benzinga',\n",
       "  'link': 'https://finance.yahoo.com/news/surgical-robotics-provider-procept-biorobotics-181731265.html',\n",
       "  'providerPublishTime': 1730139451,\n",
       "  'type': 'STORY',\n",
       "  'thumbnail': {'resolutions': [{'url': 'https://s.yimg.com/uu/api/res/1.2/W52YV4YLFwC0DRFmS1cgQw--~B/aD01NTM7dz05ODM7YXBwaWQ9eXRhY2h5b24-/https://media.zenfs.com/en/Benzinga/549bac8e0bacd3c05b8fa0cbd205f78a',\n",
       "     'width': 983,\n",
       "     'height': 553,\n",
       "     'tag': 'original'},\n",
       "    {'url': 'https://s.yimg.com/uu/api/res/1.2/dulJTHqhPWhFTH.TOI1ElA--~B/Zmk9ZmlsbDtoPTE0MDtweW9mZj0wO3c9MTQwO2FwcGlkPXl0YWNoeW9u/https://media.zenfs.com/en/Benzinga/549bac8e0bacd3c05b8fa0cbd205f78a',\n",
       "     'width': 140,\n",
       "     'height': 140,\n",
       "     'tag': '140x140'}]},\n",
       "  'relatedTickers': ['PRCT']},\n",
       " {'uuid': 'e74293de-c2bf-3a92-9e51-f7f9712d633e',\n",
       "  'title': 'What is the pharmacy of the future?',\n",
       "  'publisher': 'Pharmaceutical Technology',\n",
       "  'link': 'https://finance.yahoo.com/m/e74293de-c2bf-3a92-9e51-f7f9712d633e/what-is-the-pharmacy-of-the.html',\n",
       "  'providerPublishTime': 1730139386,\n",
       "  'type': 'STORY',\n",
       "  'thumbnail': {'resolutions': [{'url': 'https://s.yimg.com/uu/api/res/1.2/ZlkV6lZAu9Gv1KCJPm_9qA--~B/aD02Njc7dz0xMDAwO2FwcGlkPXl0YWNoeW9u/https://media.zenfs.com/en/pharmaceutical_technology_376/d171a36280f73442bbe54a1b105404a2',\n",
       "     'width': 1000,\n",
       "     'height': 667,\n",
       "     'tag': 'original'},\n",
       "    {'url': 'https://s.yimg.com/uu/api/res/1.2/WoSCVQXATRilx13wUKzTBw--~B/Zmk9ZmlsbDtoPTE0MDtweW9mZj0wO3c9MTQwO2FwcGlkPXl0YWNoeW9u/https://media.zenfs.com/en/pharmaceutical_technology_376/d171a36280f73442bbe54a1b105404a2',\n",
       "     'width': 140,\n",
       "     'height': 140,\n",
       "     'tag': '140x140'}]}},\n",
       " {'uuid': 'c8b51a6a-3674-37dd-9f53-7319dd2c8663',\n",
       "  'title': \"No, Hurricane Milton didn't 'destroy' Disney World | Fact check\",\n",
       "  'publisher': 'USA TODAY',\n",
       "  'link': 'https://finance.yahoo.com/m/c8b51a6a-3674-37dd-9f53-7319dd2c8663/no%2C-hurricane-milton-didn%27t.html',\n",
       "  'providerPublishTime': 1730139366,\n",
       "  'type': 'STORY',\n",
       "  'thumbnail': {'resolutions': [{'url': 'https://s.yimg.com/uu/api/res/1.2/tBCvDSroSXeaa5O2km7G7A--~B/aD0xNTExO3c9MjAxNjthcHBpZD15dGFjaHlvbg--/https://media.zenfs.com/en/usa_today_news_641/5e731b9bfb15ace8eea2973d93da608e',\n",
       "     'width': 2016,\n",
       "     'height': 1511,\n",
       "     'tag': 'original'},\n",
       "    {'url': 'https://s.yimg.com/uu/api/res/1.2/l5bJoB0ozS5MurQOG5m20g--~B/Zmk9ZmlsbDtoPTE0MDtweW9mZj0wO3c9MTQwO2FwcGlkPXl0YWNoeW9u/https://media.zenfs.com/en/usa_today_news_641/5e731b9bfb15ace8eea2973d93da608e',\n",
       "     'width': 140,\n",
       "     'height': 140,\n",
       "     'tag': '140x140'}]}},\n",
       " {'uuid': '21f74fab-01bf-3568-ad9c-94ac9b86c910',\n",
       "  'title': 'CELEBRATING SUSTAINABILITY: OC WASTE & RECYCLING HOSTS  FREE COMPOST GIVEAWAY ON NOVEMBER 2',\n",
       "  'publisher': 'GlobeNewswire',\n",
       "  'link': 'https://finance.yahoo.com/news/celebrating-sustainability-oc-waste-recycling-181600827.html',\n",
       "  'providerPublishTime': 1730139360,\n",
       "  'type': 'STORY',\n",
       "  'thumbnail': {'resolutions': [{'url': 'https://s.yimg.com/uu/api/res/1.2/Jrt7ibTL21211Gmbr_QwvA--~B/aD0zMDI0O3c9NDAzMjthcHBpZD15dGFjaHlvbg--/https://media.zenfs.com/en/globenewswire.com/464cc6ff91e201a29afbbfc6f0b9acc1',\n",
       "     'width': 4032,\n",
       "     'height': 3024,\n",
       "     'tag': 'original'},\n",
       "    {'url': 'https://s.yimg.com/uu/api/res/1.2/re8DR7dOUTq7TQSbzK2BHA--~B/Zmk9ZmlsbDtoPTE0MDtweW9mZj0wO3c9MTQwO2FwcGlkPXl0YWNoeW9u/https://media.zenfs.com/en/globenewswire.com/464cc6ff91e201a29afbbfc6f0b9acc1',\n",
       "     'width': 140,\n",
       "     'height': 140,\n",
       "     'tag': '140x140'}]}}]"
      ]
     },
     "execution_count": 62,
     "metadata": {},
     "output_type": "execute_result"
    }
   ],
   "source": [
    "df.news"
   ]
  },
  {
   "cell_type": "code",
   "execution_count": null,
   "metadata": {},
   "outputs": [
    {
     "data": {
      "text/html": [
       "<div>\n",
       "<style scoped>\n",
       "    .dataframe tbody tr th:only-of-type {\n",
       "        vertical-align: middle;\n",
       "    }\n",
       "\n",
       "    .dataframe tbody tr th {\n",
       "        vertical-align: top;\n",
       "    }\n",
       "\n",
       "    .dataframe thead th {\n",
       "        text-align: right;\n",
       "    }\n",
       "</style>\n",
       "<table border=\"1\" class=\"dataframe\">\n",
       "  <thead>\n",
       "    <tr style=\"text-align: right;\">\n",
       "      <th></th>\n",
       "    </tr>\n",
       "  </thead>\n",
       "  <tbody>\n",
       "  </tbody>\n",
       "</table>\n",
       "</div>"
      ],
      "text/plain": [
       "Empty DataFrame\n",
       "Columns: []\n",
       "Index: []"
      ]
     },
     "execution_count": 63,
     "metadata": {},
     "output_type": "execute_result"
    }
   ],
   "source": [
    "df.get_balance_sheet(proxy=\"PROXY_SERVER\")"
   ]
  },
  {
   "cell_type": "code",
   "execution_count": null,
   "metadata": {},
   "outputs": [
    {
     "data": {
      "text/plain": [
       "Series([], dtype: object)"
      ]
     },
     "execution_count": 64,
     "metadata": {},
     "output_type": "execute_result"
    }
   ],
   "source": [
    "df.get_capital_gains(proxy=\"PROXY_SERVER\")"
   ]
  },
  {
   "cell_type": "code",
   "execution_count": null,
   "metadata": {},
   "outputs": [],
   "source": [
    "spy = yf.Ticker('NIPPON')\n",
    "data = spy.funds_data\n"
   ]
  },
  {
   "cell_type": "code",
   "execution_count": null,
   "metadata": {},
   "outputs": [
    {
     "ename": "HTTPError",
     "evalue": "404 Client Error: Not Found for url: https://query2.finance.yahoo.com/v10/finance/quoteSummary/NIPPON?modules=quoteType%2CsummaryProfile%2CtopHoldings%2CfundProfile&corsDomain=finance.yahoo.com&symbol=NIPPON&formatted=false&crumb=giw8ZkEA4I2",
     "output_type": "error",
     "traceback": [
      "\u001b[1;31m---------------------------------------------------------------------------\u001b[0m",
      "\u001b[1;31mHTTPError\u001b[0m                                 Traceback (most recent call last)",
      "Cell \u001b[1;32mIn[82], line 1\u001b[0m\n\u001b[1;32m----> 1\u001b[0m \u001b[43mdata\u001b[49m\u001b[38;5;241;43m.\u001b[39;49m\u001b[43mdescription\u001b[49m\n",
      "File \u001b[1;32m~\\AppData\\Local\\Packages\\PythonSoftwareFoundation.Python.3.12_qbz5n2kfra8p0\\LocalCache\\local-packages\\Python312\\site-packages\\yfinance\\scrapers\\funds.py:51\u001b[0m, in \u001b[0;36mFundsData.description\u001b[1;34m(self)\u001b[0m\n\u001b[0;32m     48\u001b[0m \u001b[38;5;129m@property\u001b[39m\n\u001b[0;32m     49\u001b[0m \u001b[38;5;28;01mdef\u001b[39;00m \u001b[38;5;21mdescription\u001b[39m(\u001b[38;5;28mself\u001b[39m) \u001b[38;5;241m-\u001b[39m\u001b[38;5;241m>\u001b[39m \u001b[38;5;28mstr\u001b[39m:\n\u001b[0;32m     50\u001b[0m     \u001b[38;5;28;01mif\u001b[39;00m \u001b[38;5;28mself\u001b[39m\u001b[38;5;241m.\u001b[39m_description \u001b[38;5;129;01mis\u001b[39;00m \u001b[38;5;28;01mNone\u001b[39;00m:\n\u001b[1;32m---> 51\u001b[0m         \u001b[38;5;28;43mself\u001b[39;49m\u001b[38;5;241;43m.\u001b[39;49m\u001b[43m_fetch_and_parse\u001b[49m\u001b[43m(\u001b[49m\u001b[43m)\u001b[49m\n\u001b[0;32m     52\u001b[0m     \u001b[38;5;28;01mreturn\u001b[39;00m \u001b[38;5;28mself\u001b[39m\u001b[38;5;241m.\u001b[39m_description\n",
      "File \u001b[1;32m~\\AppData\\Local\\Packages\\PythonSoftwareFoundation.Python.3.12_qbz5n2kfra8p0\\LocalCache\\local-packages\\Python312\\site-packages\\yfinance\\scrapers\\funds.py:109\u001b[0m, in \u001b[0;36mFundsData._fetch_and_parse\u001b[1;34m(self)\u001b[0m\n\u001b[0;32m    108\u001b[0m \u001b[38;5;28;01mdef\u001b[39;00m \u001b[38;5;21m_fetch_and_parse\u001b[39m(\u001b[38;5;28mself\u001b[39m) \u001b[38;5;241m-\u001b[39m\u001b[38;5;241m>\u001b[39m \u001b[38;5;28;01mNone\u001b[39;00m:\n\u001b[1;32m--> 109\u001b[0m     result \u001b[38;5;241m=\u001b[39m \u001b[38;5;28;43mself\u001b[39;49m\u001b[38;5;241;43m.\u001b[39;49m\u001b[43m_fetch\u001b[49m\u001b[43m(\u001b[49m\u001b[38;5;28;43mself\u001b[39;49m\u001b[38;5;241;43m.\u001b[39;49m\u001b[43mproxy\u001b[49m\u001b[43m)\u001b[49m\n\u001b[0;32m    110\u001b[0m     \u001b[38;5;28;01mtry\u001b[39;00m:\n\u001b[0;32m    111\u001b[0m         data \u001b[38;5;241m=\u001b[39m result[\u001b[38;5;124m\"\u001b[39m\u001b[38;5;124mquoteSummary\u001b[39m\u001b[38;5;124m\"\u001b[39m][\u001b[38;5;124m\"\u001b[39m\u001b[38;5;124mresult\u001b[39m\u001b[38;5;124m\"\u001b[39m][\u001b[38;5;241m0\u001b[39m]\n",
      "File \u001b[1;32m~\\AppData\\Local\\Packages\\PythonSoftwareFoundation.Python.3.12_qbz5n2kfra8p0\\LocalCache\\local-packages\\Python312\\site-packages\\yfinance\\scrapers\\funds.py:105\u001b[0m, in \u001b[0;36mFundsData._fetch\u001b[1;34m(self, proxy)\u001b[0m\n\u001b[0;32m    103\u001b[0m modules \u001b[38;5;241m=\u001b[39m \u001b[38;5;124m'\u001b[39m\u001b[38;5;124m,\u001b[39m\u001b[38;5;124m'\u001b[39m\u001b[38;5;241m.\u001b[39mjoin([\u001b[38;5;124m\"\u001b[39m\u001b[38;5;124mquoteType\u001b[39m\u001b[38;5;124m\"\u001b[39m, \u001b[38;5;124m\"\u001b[39m\u001b[38;5;124msummaryProfile\u001b[39m\u001b[38;5;124m\"\u001b[39m, \u001b[38;5;124m\"\u001b[39m\u001b[38;5;124mtopHoldings\u001b[39m\u001b[38;5;124m\"\u001b[39m, \u001b[38;5;124m\"\u001b[39m\u001b[38;5;124mfundProfile\u001b[39m\u001b[38;5;124m\"\u001b[39m])\n\u001b[0;32m    104\u001b[0m params_dict \u001b[38;5;241m=\u001b[39m {\u001b[38;5;124m\"\u001b[39m\u001b[38;5;124mmodules\u001b[39m\u001b[38;5;124m\"\u001b[39m: modules, \u001b[38;5;124m\"\u001b[39m\u001b[38;5;124mcorsDomain\u001b[39m\u001b[38;5;124m\"\u001b[39m: \u001b[38;5;124m\"\u001b[39m\u001b[38;5;124mfinance.yahoo.com\u001b[39m\u001b[38;5;124m\"\u001b[39m, \u001b[38;5;124m\"\u001b[39m\u001b[38;5;124msymbol\u001b[39m\u001b[38;5;124m\"\u001b[39m: \u001b[38;5;28mself\u001b[39m\u001b[38;5;241m.\u001b[39m_symbol, \u001b[38;5;124m\"\u001b[39m\u001b[38;5;124mformatted\u001b[39m\u001b[38;5;124m\"\u001b[39m: \u001b[38;5;124m\"\u001b[39m\u001b[38;5;124mfalse\u001b[39m\u001b[38;5;124m\"\u001b[39m}\n\u001b[1;32m--> 105\u001b[0m result \u001b[38;5;241m=\u001b[39m \u001b[38;5;28;43mself\u001b[39;49m\u001b[38;5;241;43m.\u001b[39;49m\u001b[43m_data\u001b[49m\u001b[38;5;241;43m.\u001b[39;49m\u001b[43mget_raw_json\u001b[49m\u001b[43m(\u001b[49m\u001b[43m_QUOTE_SUMMARY_URL_\u001b[49m\u001b[38;5;241;43m+\u001b[39;49m\u001b[38;5;28;43mself\u001b[39;49m\u001b[38;5;241;43m.\u001b[39;49m\u001b[43m_symbol\u001b[49m\u001b[43m,\u001b[49m\u001b[43m \u001b[49m\u001b[43muser_agent_headers\u001b[49m\u001b[38;5;241;43m=\u001b[39;49m\u001b[38;5;28;43mself\u001b[39;49m\u001b[38;5;241;43m.\u001b[39;49m\u001b[43m_data\u001b[49m\u001b[38;5;241;43m.\u001b[39;49m\u001b[43muser_agent_headers\u001b[49m\u001b[43m,\u001b[49m\u001b[43m \u001b[49m\u001b[43mparams\u001b[49m\u001b[38;5;241;43m=\u001b[39;49m\u001b[43mparams_dict\u001b[49m\u001b[43m,\u001b[49m\u001b[43m \u001b[49m\u001b[43mproxy\u001b[49m\u001b[38;5;241;43m=\u001b[39;49m\u001b[43mproxy\u001b[49m\u001b[43m)\u001b[49m\n\u001b[0;32m    106\u001b[0m \u001b[38;5;28;01mreturn\u001b[39;00m result\n",
      "File \u001b[1;32m~\\AppData\\Local\\Packages\\PythonSoftwareFoundation.Python.3.12_qbz5n2kfra8p0\\LocalCache\\local-packages\\Python312\\site-packages\\yfinance\\data.py:411\u001b[0m, in \u001b[0;36mYfData.get_raw_json\u001b[1;34m(self, url, user_agent_headers, params, proxy, timeout)\u001b[0m\n\u001b[0;32m    409\u001b[0m utils\u001b[38;5;241m.\u001b[39mget_yf_logger()\u001b[38;5;241m.\u001b[39mdebug(\u001b[38;5;124mf\u001b[39m\u001b[38;5;124m'\u001b[39m\u001b[38;5;124mget_raw_json(): \u001b[39m\u001b[38;5;132;01m{\u001b[39;00murl\u001b[38;5;132;01m}\u001b[39;00m\u001b[38;5;124m'\u001b[39m)\n\u001b[0;32m    410\u001b[0m response \u001b[38;5;241m=\u001b[39m \u001b[38;5;28mself\u001b[39m\u001b[38;5;241m.\u001b[39mget(url, user_agent_headers\u001b[38;5;241m=\u001b[39muser_agent_headers, params\u001b[38;5;241m=\u001b[39mparams, proxy\u001b[38;5;241m=\u001b[39mproxy, timeout\u001b[38;5;241m=\u001b[39mtimeout)\n\u001b[1;32m--> 411\u001b[0m \u001b[43mresponse\u001b[49m\u001b[38;5;241;43m.\u001b[39;49m\u001b[43mraise_for_status\u001b[49m\u001b[43m(\u001b[49m\u001b[43m)\u001b[49m\n\u001b[0;32m    412\u001b[0m \u001b[38;5;28;01mreturn\u001b[39;00m response\u001b[38;5;241m.\u001b[39mjson()\n",
      "File \u001b[1;32m~\\AppData\\Local\\Packages\\PythonSoftwareFoundation.Python.3.12_qbz5n2kfra8p0\\LocalCache\\local-packages\\Python312\\site-packages\\requests\\models.py:1024\u001b[0m, in \u001b[0;36mResponse.raise_for_status\u001b[1;34m(self)\u001b[0m\n\u001b[0;32m   1019\u001b[0m     http_error_msg \u001b[38;5;241m=\u001b[39m (\n\u001b[0;32m   1020\u001b[0m         \u001b[38;5;124mf\u001b[39m\u001b[38;5;124m\"\u001b[39m\u001b[38;5;132;01m{\u001b[39;00m\u001b[38;5;28mself\u001b[39m\u001b[38;5;241m.\u001b[39mstatus_code\u001b[38;5;132;01m}\u001b[39;00m\u001b[38;5;124m Server Error: \u001b[39m\u001b[38;5;132;01m{\u001b[39;00mreason\u001b[38;5;132;01m}\u001b[39;00m\u001b[38;5;124m for url: \u001b[39m\u001b[38;5;132;01m{\u001b[39;00m\u001b[38;5;28mself\u001b[39m\u001b[38;5;241m.\u001b[39murl\u001b[38;5;132;01m}\u001b[39;00m\u001b[38;5;124m\"\u001b[39m\n\u001b[0;32m   1021\u001b[0m     )\n\u001b[0;32m   1023\u001b[0m \u001b[38;5;28;01mif\u001b[39;00m http_error_msg:\n\u001b[1;32m-> 1024\u001b[0m     \u001b[38;5;28;01mraise\u001b[39;00m HTTPError(http_error_msg, response\u001b[38;5;241m=\u001b[39m\u001b[38;5;28mself\u001b[39m)\n",
      "\u001b[1;31mHTTPError\u001b[0m: 404 Client Error: Not Found for url: https://query2.finance.yahoo.com/v10/finance/quoteSummary/NIPPON?modules=quoteType%2CsummaryProfile%2CtopHoldings%2CfundProfile&corsDomain=finance.yahoo.com&symbol=NIPPON&formatted=false&crumb=giw8ZkEA4I2"
     ]
    }
   ],
   "source": [
    "data.descrip"
   ]
  },
  {
   "cell_type": "code",
   "execution_count": null,
   "metadata": {},
   "outputs": [
    {
     "data": {
      "text/plain": [
       "<method-wrapper '__eq__' of tuple object at 0x00007FFF837A0420>"
      ]
     },
     "execution_count": 71,
     "metadata": {},
     "output_type": "execute_result"
    }
   ],
   "source": [
    "df.options[]"
   ]
  },
  {
   "cell_type": "code",
   "execution_count": null,
   "metadata": {},
   "outputs": [
    {
     "ename": "ValueError",
     "evalue": "Expiration `2024-9-28` cannot be found. Available expirations are: []",
     "output_type": "error",
     "traceback": [
      "\u001b[1;31m---------------------------------------------------------------------------\u001b[0m",
      "\u001b[1;31mValueError\u001b[0m                                Traceback (most recent call last)",
      "Cell \u001b[1;32mIn[76], line 1\u001b[0m\n\u001b[1;32m----> 1\u001b[0m opt \u001b[38;5;241m=\u001b[39m \u001b[43mdf\u001b[49m\u001b[38;5;241;43m.\u001b[39;49m\u001b[43moption_chain\u001b[49m\u001b[43m(\u001b[49m\u001b[38;5;124;43m'\u001b[39;49m\u001b[38;5;124;43m2024-9-28\u001b[39;49m\u001b[38;5;124;43m'\u001b[39;49m\u001b[43m)\u001b[49m\n",
      "File \u001b[1;32m~\\AppData\\Local\\Packages\\PythonSoftwareFoundation.Python.3.12_qbz5n2kfra8p0\\LocalCache\\local-packages\\Python312\\site-packages\\yfinance\\ticker.py:90\u001b[0m, in \u001b[0;36mTicker.option_chain\u001b[1;34m(self, date, tz)\u001b[0m\n\u001b[0;32m     88\u001b[0m     \u001b[38;5;28mself\u001b[39m\u001b[38;5;241m.\u001b[39m_download_options()\n\u001b[0;32m     89\u001b[0m \u001b[38;5;28;01mif\u001b[39;00m date \u001b[38;5;129;01mnot\u001b[39;00m \u001b[38;5;129;01min\u001b[39;00m \u001b[38;5;28mself\u001b[39m\u001b[38;5;241m.\u001b[39m_expirations:\n\u001b[1;32m---> 90\u001b[0m     \u001b[38;5;28;01mraise\u001b[39;00m \u001b[38;5;167;01mValueError\u001b[39;00m(\n\u001b[0;32m     91\u001b[0m         \u001b[38;5;124mf\u001b[39m\u001b[38;5;124m\"\u001b[39m\u001b[38;5;124mExpiration `\u001b[39m\u001b[38;5;132;01m{\u001b[39;00mdate\u001b[38;5;132;01m}\u001b[39;00m\u001b[38;5;124m` cannot be found. \u001b[39m\u001b[38;5;124m\"\u001b[39m\n\u001b[0;32m     92\u001b[0m         \u001b[38;5;124mf\u001b[39m\u001b[38;5;124m\"\u001b[39m\u001b[38;5;124mAvailable expirations are: [\u001b[39m\u001b[38;5;132;01m{\u001b[39;00m\u001b[38;5;124m'\u001b[39m\u001b[38;5;124m, \u001b[39m\u001b[38;5;124m'\u001b[39m\u001b[38;5;241m.\u001b[39mjoin(\u001b[38;5;28mself\u001b[39m\u001b[38;5;241m.\u001b[39m_expirations)\u001b[38;5;132;01m}\u001b[39;00m\u001b[38;5;124m]\u001b[39m\u001b[38;5;124m\"\u001b[39m)\n\u001b[0;32m     93\u001b[0m date \u001b[38;5;241m=\u001b[39m \u001b[38;5;28mself\u001b[39m\u001b[38;5;241m.\u001b[39m_expirations[date]\n\u001b[0;32m     94\u001b[0m options \u001b[38;5;241m=\u001b[39m \u001b[38;5;28mself\u001b[39m\u001b[38;5;241m.\u001b[39m_download_options(date)\n",
      "\u001b[1;31mValueError\u001b[0m: Expiration `2024-9-28` cannot be found. Available expirations are: []"
     ]
    }
   ],
   "source": [
    "opt = df.option_chain('2024-9-28')"
   ]
  },
  {
   "cell_type": "code",
   "execution_count": null,
   "metadata": {},
   "outputs": [
    {
     "data": {
      "text/plain": [
       "'-'"
      ]
     },
     "execution_count": 77,
     "metadata": {},
     "output_type": "execute_result"
    }
   ],
   "source": [
    "df.isin"
   ]
  },
  {
   "cell_type": "code",
   "execution_count": null,
   "metadata": {},
   "outputs": [
    {
     "data": {
      "text/plain": [
       "{'categoryName': 'Large Blend',\n",
       " 'family': 'SPDR State Street Global Advisors',\n",
       " 'legalType': 'Exchange Traded Fund'}"
      ]
     },
     "execution_count": 78,
     "metadata": {},
     "output_type": "execute_result"
    }
   ],
   "source": [
    "data.fund_overview"
   ]
  },
  {
   "cell_type": "code",
   "execution_count": null,
   "metadata": {},
   "outputs": [
    {
     "data": {
      "text/plain": [
       "{'cashPosition': 0.0028,\n",
       " 'stockPosition': 0.9972,\n",
       " 'bondPosition': 0.0,\n",
       " 'preferredPosition': 0.0,\n",
       " 'convertiblePosition': 0.0,\n",
       " 'otherPosition': 0.0}"
      ]
     },
     "execution_count": 79,
     "metadata": {},
     "output_type": "execute_result"
    }
   ],
   "source": [
    "data.asset_classes"
   ]
  },
  {
   "cell_type": "code",
   "execution_count": null,
   "metadata": {},
   "outputs": [
    {
     "data": {
      "text/plain": [
       "{'realestate': 0.0234,\n",
       " 'consumer_cyclical': 0.1028,\n",
       " 'basic_materials': 0.02,\n",
       " 'consumer_defensive': 0.0587,\n",
       " 'technology': 0.32970002,\n",
       " 'communication_services': 0.088599995,\n",
       " 'financial_services': 0.1249,\n",
       " 'utilities': 0.026700001,\n",
       " 'industrials': 0.0758,\n",
       " 'energy': 0.033099998,\n",
       " 'healthcare': 0.1162}"
      ]
     },
     "execution_count": 80,
     "metadata": {},
     "output_type": "execute_result"
    }
   ],
   "source": [
    "data.sector_weightings"
   ]
  },
  {
   "cell_type": "code",
   "execution_count": null,
   "metadata": {},
   "outputs": [],
   "source": []
  }
 ],
 "metadata": {
  "kernelspec": {
   "display_name": "Python 3",
   "language": "python",
   "name": "python3"
  },
  "language_info": {
   "codemirror_mode": {
    "name": "ipython",
    "version": 3
   },
   "file_extension": ".py",
   "mimetype": "text/x-python",
   "name": "python",
   "nbconvert_exporter": "python",
   "pygments_lexer": "ipython3",
   "version": "3.12.7"
  }
 },
 "nbformat": 4,
 "nbformat_minor": 2
}
