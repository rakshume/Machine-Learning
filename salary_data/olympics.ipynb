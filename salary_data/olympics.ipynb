{
 "cells": [
  {
   "cell_type": "code",
   "execution_count": 1,
   "metadata": {},
   "outputs": [],
   "source": [
    "import pandas as pd\n",
    "import numpy as np\n",
    "import matplotlib.pyplot as plt\n",
    "import seaborn as sns\n",
    "from sklearn.model_selection import train_test_split\n",
    "from sklearn.linear_model import LinearRegression\n",
    "from sklearn.metrics import mean_squared_error, r2_score, mean_absolute_error\n",
    "from sklearn.preprocessing import PolynomialFeatures"
   ]
  },
  {
   "cell_type": "code",
   "execution_count": 2,
   "metadata": {},
   "outputs": [],
   "source": [
    "df = pd.read_csv(r'C:\\Users\\KSSEEB\\OneDrive\\Documents\\Machine Learning\\salary_data\\olympics-economics.csv')"
   ]
  },
  {
   "cell_type": "code",
   "execution_count": 6,
   "metadata": {},
   "outputs": [
    {
     "data": {
      "text/html": [
       "<div>\n",
       "<style scoped>\n",
       "    .dataframe tbody tr th:only-of-type {\n",
       "        vertical-align: middle;\n",
       "    }\n",
       "\n",
       "    .dataframe tbody tr th {\n",
       "        vertical-align: top;\n",
       "    }\n",
       "\n",
       "    .dataframe thead th {\n",
       "        text-align: right;\n",
       "    }\n",
       "</style>\n",
       "<table border=\"1\" class=\"dataframe\">\n",
       "  <thead>\n",
       "    <tr style=\"text-align: right;\">\n",
       "      <th></th>\n",
       "      <th>country</th>\n",
       "      <th>country_code</th>\n",
       "      <th>gold</th>\n",
       "      <th>silver</th>\n",
       "      <th>bronze</th>\n",
       "      <th>total</th>\n",
       "      <th>gdp</th>\n",
       "      <th>gdp_year</th>\n",
       "      <th>population</th>\n",
       "    </tr>\n",
       "  </thead>\n",
       "  <tbody>\n",
       "    <tr>\n",
       "      <th>0</th>\n",
       "      <td>United States</td>\n",
       "      <td>USA</td>\n",
       "      <td>40</td>\n",
       "      <td>44</td>\n",
       "      <td>42</td>\n",
       "      <td>126</td>\n",
       "      <td>81695.19</td>\n",
       "      <td>2023</td>\n",
       "      <td>334.9</td>\n",
       "    </tr>\n",
       "    <tr>\n",
       "      <th>1</th>\n",
       "      <td>China</td>\n",
       "      <td>CHN</td>\n",
       "      <td>40</td>\n",
       "      <td>27</td>\n",
       "      <td>24</td>\n",
       "      <td>91</td>\n",
       "      <td>12614.06</td>\n",
       "      <td>2023</td>\n",
       "      <td>1410.7</td>\n",
       "    </tr>\n",
       "    <tr>\n",
       "      <th>2</th>\n",
       "      <td>Japan</td>\n",
       "      <td>JPN</td>\n",
       "      <td>20</td>\n",
       "      <td>12</td>\n",
       "      <td>13</td>\n",
       "      <td>45</td>\n",
       "      <td>33834.39</td>\n",
       "      <td>2023</td>\n",
       "      <td>124.5</td>\n",
       "    </tr>\n",
       "    <tr>\n",
       "      <th>3</th>\n",
       "      <td>Australia</td>\n",
       "      <td>AUS</td>\n",
       "      <td>18</td>\n",
       "      <td>19</td>\n",
       "      <td>16</td>\n",
       "      <td>53</td>\n",
       "      <td>64711.77</td>\n",
       "      <td>2023</td>\n",
       "      <td>26.6</td>\n",
       "    </tr>\n",
       "    <tr>\n",
       "      <th>4</th>\n",
       "      <td>France</td>\n",
       "      <td>FRA</td>\n",
       "      <td>16</td>\n",
       "      <td>26</td>\n",
       "      <td>22</td>\n",
       "      <td>64</td>\n",
       "      <td>44460.82</td>\n",
       "      <td>2023</td>\n",
       "      <td>68.2</td>\n",
       "    </tr>\n",
       "  </tbody>\n",
       "</table>\n",
       "</div>"
      ],
      "text/plain": [
       "         country country_code  gold  silver  bronze  total       gdp  \\\n",
       "0  United States          USA    40      44      42    126  81695.19   \n",
       "1          China          CHN    40      27      24     91  12614.06   \n",
       "2          Japan          JPN    20      12      13     45  33834.39   \n",
       "3      Australia          AUS    18      19      16     53  64711.77   \n",
       "4         France          FRA    16      26      22     64  44460.82   \n",
       "\n",
       "   gdp_year  population  \n",
       "0      2023       334.9  \n",
       "1      2023      1410.7  \n",
       "2      2023       124.5  \n",
       "3      2023        26.6  \n",
       "4      2023        68.2  "
      ]
     },
     "execution_count": 6,
     "metadata": {},
     "output_type": "execute_result"
    }
   ],
   "source": [
    "df.head()"
   ]
  },
  {
   "cell_type": "code",
   "execution_count": 7,
   "metadata": {},
   "outputs": [
    {
     "data": {
      "text/plain": [
       "(90, 9)"
      ]
     },
     "execution_count": 7,
     "metadata": {},
     "output_type": "execute_result"
    }
   ],
   "source": [
    "df.shape"
   ]
  },
  {
   "cell_type": "code",
   "execution_count": 16,
   "metadata": {},
   "outputs": [
    {
     "data": {
      "text/plain": [
       "array(['USA', 'CHN', 'JPN', 'AUS', 'FRA', 'NLD', 'GBR', 'KOR', 'ITA',\n",
       "       'DEU', 'NZL', 'CAN', 'UZB', 'HUN', 'ESP', 'SWE', 'KEN', 'NOR',\n",
       "       'IRL', 'BRA', 'IRN', 'UKR', 'ROU', 'GEO', 'BEL', 'BGR', 'SRB',\n",
       "       'CZE', 'DNK', 'AZE', 'HRV', 'CUB', 'BHR', 'SVN', 'TPE', 'AUT',\n",
       "       'HKG', 'PHL', 'DZA', 'IDN', 'ISR', 'POL', 'KAZ', 'JAM', 'ZAF',\n",
       "       'THA', 'ETH', 'CHE', 'ECU', 'PRT', 'GRC', 'ARG', 'EGY', 'TUN',\n",
       "       'BWA', 'CHL', 'LCA', 'UGA', 'DOM', 'GTM', 'MAR', 'DMA', 'PAK',\n",
       "       'TUR', 'MEX', 'ARM', 'COL', 'PRK', 'KGZ', 'LTU', 'IND', 'MDA',\n",
       "       'XKX', 'CYP', 'FJI', 'JOR', 'MNG', 'PAN', 'TJK', 'ALB', 'GRD',\n",
       "       'MYS', 'PRI', 'CPV', 'CIV', 'PER', 'QAT', 'SGP', 'SVK', 'ZMB'],\n",
       "      dtype=object)"
      ]
     },
     "execution_count": 16,
     "metadata": {},
     "output_type": "execute_result"
    }
   ],
   "source": [
    "df['country_code'].unique()"
   ]
  },
  {
   "cell_type": "code",
   "execution_count": 22,
   "metadata": {},
   "outputs": [
    {
     "data": {
      "text/plain": [
       "np.int64(40)"
      ]
     },
     "execution_count": 22,
     "metadata": {},
     "output_type": "execute_result"
    }
   ],
   "source": [
    "df['gold'].max()\n"
   ]
  },
  {
   "cell_type": "code",
   "execution_count": null,
   "metadata": {},
   "outputs": [],
   "source": []
  }
 ],
 "metadata": {
  "kernelspec": {
   "display_name": "Python 3",
   "language": "python",
   "name": "python3"
  },
  "language_info": {
   "codemirror_mode": {
    "name": "ipython",
    "version": 3
   },
   "file_extension": ".py",
   "mimetype": "text/x-python",
   "name": "python",
   "nbconvert_exporter": "python",
   "pygments_lexer": "ipython3",
   "version": "3.12.7"
  }
 },
 "nbformat": 4,
 "nbformat_minor": 2
}
